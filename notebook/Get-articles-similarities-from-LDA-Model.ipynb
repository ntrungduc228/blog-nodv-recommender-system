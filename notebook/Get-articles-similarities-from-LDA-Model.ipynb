{
 "cells": [
  {
   "cell_type": "code",
   "execution_count": 21,
   "id": "65454030",
   "metadata": {},
   "outputs": [],
   "source": [
    "import sys\n",
    "import requests\n",
    "from time import sleep\n",
    "\n",
    "from tqdm import tqdm\n",
    "import pymongo\n",
    "from pymongo import MongoClient\n",
    "from bson.objectid import ObjectId\n",
    "import gensim"
   ]
  },
  {
   "cell_type": "code",
   "execution_count": 22,
   "id": "88539d9c",
   "metadata": {},
   "outputs": [],
   "source": [
    "sys.path.append('../')"
   ]
  },
  {
   "cell_type": "code",
   "execution_count": 3,
   "id": "715804a8",
   "metadata": {},
   "outputs": [],
   "source": [
    "from src import settings"
   ]
  },
  {
   "cell_type": "code",
   "execution_count": 4,
   "id": "f85d4ea5",
   "metadata": {},
   "outputs": [],
   "source": [
    "client = MongoClient(settings.MONGODB_SETTINGS['host'])\n",
    "db = client[settings.MONGODB_SETTINGS['db']]\n",
    "col = db[settings.MONGODB_SETTINGS['collection']]"
   ]
  },
  {
   "cell_type": "code",
   "execution_count": 5,
   "id": "d0eb7bbd",
   "metadata": {},
   "outputs": [],
   "source": [
    "from src.models import make_texts_corpus\n",
    "from src.utils import editorJs_data_to_text\n",
    "import json\n",
    "from gensim.matutils import cossim\n",
    "from gensim import similarities"
   ]
  },
  {
   "cell_type": "code",
   "execution_count": 6,
   "id": "06655038",
   "metadata": {},
   "outputs": [
    {
     "name": "stderr",
     "output_type": "stream",
     "text": [
      "INFO : loading Dictionary object from ../models/id2word.dictionary\n",
      "INFO : Dictionary lifecycle event {'fname': '../models/id2word.dictionary', 'datetime': '2022-12-30T16:55:29.939429', 'gensim': '4.2.0', 'python': '3.9.6 (tags/v3.9.6:db3ff76, Jun 28 2021, 15:26:21) [MSC v.1929 64 bit (AMD64)]', 'platform': 'Windows-10-10.0.19045-SP0', 'event': 'loaded'}\n",
      "INFO : loaded corpus index from ../models/corpus.mm.index\n",
      "INFO : initializing cython corpus reader from ../models/corpus.mm\n",
      "INFO : accepted corpus with 177 documents, 4087 features, 36185 non-zero entries\n",
      "INFO : loading LdaModel object from ../models/LDA.model\n",
      "INFO : loading expElogbeta from ../models/LDA.model.expElogbeta.npy with mmap=None\n",
      "INFO : setting ignored attribute state to None\n",
      "INFO : setting ignored attribute dispatcher to None\n",
      "INFO : setting ignored attribute id2word to None\n",
      "INFO : LdaModel lifecycle event {'fname': '../models/LDA.model', 'datetime': '2022-12-30T16:55:29.963434', 'gensim': '4.2.0', 'python': '3.9.6 (tags/v3.9.6:db3ff76, Jun 28 2021, 15:26:21) [MSC v.1929 64 bit (AMD64)]', 'platform': 'Windows-10-10.0.19045-SP0', 'event': 'loaded'}\n",
      "INFO : loading LdaState object from ../models/LDA.model.state\n",
      "INFO : LdaState lifecycle event {'fname': '../models/LDA.model.state', 'datetime': '2022-12-30T16:55:29.970431', 'gensim': '4.2.0', 'python': '3.9.6 (tags/v3.9.6:db3ff76, Jun 28 2021, 15:26:21) [MSC v.1929 64 bit (AMD64)]', 'platform': 'Windows-10-10.0.19045-SP0', 'event': 'loaded'}\n"
     ]
    }
   ],
   "source": [
    "id2word = gensim.corpora.Dictionary.load(settings.PATH_DICTIONARY)\n",
    "corpus = gensim.corpora.MmCorpus('../models/corpus.mm')\n",
    "lda_model = gensim.models.ldamodel.LdaModel.load('../models/LDA.model')"
   ]
  },
  {
   "cell_type": "code",
   "execution_count": 7,
   "id": "fc8e5e5b",
   "metadata": {},
   "outputs": [
    {
     "name": "stderr",
     "output_type": "stream",
     "text": [
      "WARNING : scanning corpus to determine the number of features (consider setting `num_features` explicitly)\n",
      "INFO : creating matrix with 177 documents and 57 features\n"
     ]
    }
   ],
   "source": [
    "index = similarities.MatrixSimilarity(lda_model[corpus])"
   ]
  },
  {
   "cell_type": "code",
   "execution_count": 8,
   "id": "96f309a2",
   "metadata": {},
   "outputs": [
    {
     "name": "stdout",
     "output_type": "stream",
     "text": [
      "ĐỒ ÁN THIẾT KẾ WEBSITE BLOG SITE idrs:  0\n",
      "Regular Expression trong Javascript idrs:  2\n",
      "Các bài tập java cơ bản idrs:  3\n",
      "Những câu hỏi lập trình khi pv (2): bài toán ATM idrs:  4\n",
      "Ví dụ sắp xếp nổi bọt với Java idrs:  5\n",
      "Chương trình lọc thư rác bằng Java, code ví dụ idrs:  6\n",
      "Đọc ghi file Excel trong Java sử dụng Apache POI idrs:  7\n",
      "THREAD AND THREAD POOLS IN JAVA idrs:  8\n",
      "Sử dụng CountDownLatch trong Java idrs:  9\n",
      "Multithreading: Java Synchronized Blocks idrs:  10\n",
      "Understand synchronized and improve lock performance in Java idrs:  11\n",
      "Front-End Web Developers idrs:  12\n",
      "Material Design for Web Design idrs:  13\n",
      "Những kỹ năng cần phải có của một Web Designer idrs:  14\n",
      "Rest API - cách Frontend và Backend nói chuyện với nhau qua ví dụ cụ thể idrs:  15\n",
      "Điều cần chú ý để xây dựng RESTful API idrs:  16\n",
      "Dựng một API RESTful đơn giản sử dụng Express và MongoDB idrs:  17\n",
      "xây dựng API với Napa idrs:  18\n",
      "Trí tuệ nhân tạo với Swift idrs:  19\n",
      "Lợi ích và nguy cơ của trí tuệ nhân tạo (AI) idrs:  20\n",
      "Liệu chúng ta có thể xây dựng trí tuệ nhân tạo mà không mất kiểm soát đối với nó? idrs:  21\n",
      "Agile Marketing khái niệm và tại sao nên áp dụng Agile trong Marketing idrs:  22\n",
      "Cách thức mà Agile Marketing vận hành idrs:  23\n",
      "Agile Software Development idrs:  24\n",
      "Waterfall vs Agile vs Scrum - Part 1: Agile là gì? idrs:  25\n",
      "Cấu trúc của User stories trong Agile Marketing idrs:  26\n",
      "Kinh nghiệm chuẩn bị cho chuyến du lịch hoàn hảo idrs:  27\n",
      "Bỏ túi kinh nghiệm du lịch Việt Nam tự túc cho lần đầu khám phá idrs:  28\n",
      "Chia sẻ kinh nghiệm du lịch bụi đơn giản nhưng rất cần thiết cho du khách idrs:  29\n",
      "Kinh nghiệm du lịch Hạ Long tự túc cho người lần đầu mới đi idrs:  30\n",
      "Muốn khởi nghiệp? Hãy dành 5 phút đọc bài viết này. idrs:  31\n",
      "Muốn khởi nghiệp? Hãy dành 5 phút đọc bài viết này. idrs:  32\n",
      "6 LOẠI HÌNH KHỞI NGHIỆP BẠN CẦN BIẾT idrs:  33\n",
      "6 LOẠI HÌNH KHỞI NGHIỆP BẠN CẦN BIẾT idrs:  34\n",
      "6 LOẠI HÌNH KHỞI NGHIỆP BẠN CẦN BIẾT idrs:  35\n",
      "Cách khởi nghiệp từ 2 bàn tay trắng bạn không nên bỏ qua idrs:  36\n",
      "Những cách khởi nghiệp hay và xu hướng khởi nghiệp bạn nên biết idrs:  37\n",
      "Những cách khởi nghiệp hay và xu hướng khởi nghiệp bạn nên biết idrs:  38\n",
      "Calories là gì? Tìm hiểu calo trong việc tăng &amp; giảm cân hiệu quả. idrs:  39\n",
      "Top 15 ngôn ngữ lập trình phổ biến nhất thế giới, bạn đã biết hết chưa? idrs:  40\n",
      "Bạn nên ăn bao nhiêu calo mỗi ngày để giảm cân? idrs:  41\n",
      "Ngôn ngữ lập trình là gì - Top 9 ngôn ngữ lập trình phổ biến idrs:  42\n",
      "1 ngày cần bao nhiêu calo để tăng cân? Cách tính lượng calo nạp vào cơ thể idrs:  43\n",
      "5 ngôn ngữ lập trình phổ biến nhất Việt Nam năm 2020 idrs:  44\n",
      "CALO LÀ GÌ? BẢNG TÍNH CALORIES DÀNH CHO NGƯỜI GIẢM CÂN CẦN BIẾT idrs:  45\n",
      "Cách tính calo giảm cân chuẩn như chuyên gia idrs:  46\n",
      "Skincare là gì? Quy trình và lợi ích của skincare như thế nào? idrs:  47\n",
      "Hướng dẫn quy trình chăm sóc da mặt khoa học cho làn da khỏe đẹp idrs:  48\n",
      "Thế Nào Là Chăm Sóc Da Khoa Học? Bạn Thực Sự Đã Hiểu Đúng? idrs:  49\n",
      "Hướng dẫn thứ tự skincare \"chuẩn không cần chỉnh\" idrs:  50\n",
      "Khủng hoảng kinh tế là gì? Nguyên nhân, bản chất khủng hoảng kinh tế idrs:  51\n",
      "Thượng đỉnh G20&nbsp;bàn về khủng hoảng kinh tế toàn cầu idrs:  52\n",
      "Kinh tế thế giới ra sao năm 2023? idrs:  53\n",
      "Lịch sử những cuộc khủng hoảng kinh tế thế giới từ trước đến nay idrs:  54\n",
      "Nguyên nhân nào đẩy kinh tế thế giới tới bờ vực suy thoái? idrs:  55\n",
      "CHU KỲ KHỦNG HOẢNG KINH TẾ 10 NĂM: NGUY CƠ TỪ NỘI TẠI NỀN KINH TẾ idrs:  56\n",
      "VIỆT NAM TRƯỚC KHÓ KHĂN, THÁCH THỨC CỦA KINH TẾ THẾ GIỚI idrs:  57\n",
      "TOP 5 các đồng tiền ảo nên đầu tư nhất vì độ HOT của chúng chưa bao giờ dừng idrs:  58\n",
      "Đầu tư tiền ảo là gì? Bắt đầu như thế nào cho người mới? idrs:  59\n",
      "Khủng hoảng tiền số: Tái ông thất mã? idrs:  60\n",
      "Duy trì lối sống lành mạnh nâng cao sức khỏe idrs:  61\n",
      "Những lợi ích bất ngờ khi bạn duy trì lối sống lành mạnh idrs:  62\n",
      "Bắt nhịp lối sống lành mạnh&nbsp;với 4 bước siêu đơn giản idrs:  63\n",
      "Lối sống lành mạnh có thể làm giảm nguy cơ sa sút trí tuệ và kéo dài tuổi thọ idrs:  64\n",
      "10 cách duy trì lối sống lành mạnh ai cũng có thể thực hiện idrs:  65\n",
      "Chế độ ăn uống lành mạnh là gì và làm cách nào để bắt đầu? idrs:  66\n",
      "8 cách ăn uống lành mạnh và giúp bạn có cuộc sống khỏe mạnh hơn idrs:  67\n",
      "5 lợi ích của việc ăn uống lành mạnh idrs:  68\n",
      "5 bí quyết cực đơn giản để có chế độ ăn uống lành mạnh hơn idrs:  69\n",
      "11 chế độ ăn uống lành mạnh nhất năm 2020 idrs:  70\n",
      "10 lời khuyên đơn giản làm cho chế độ ăn uống của bạn lành mạnh hơn idrs:  71\n",
      "Khi nào bất động sản đảo chiều? idrs:  72\n",
      "Bất động sản Việt đang mất dần lợi thế cạnh tranh idrs:  73\n",
      "Nhu cầu 'bắt đáy' bất động sản tăng cao idrs:  74\n",
      "Thực Trạng Ô Nhiễm Môi Trường Ở Việt Nam Hiện Nay idrs:  75\n",
      "THỰC TRẠNG Ô NHIỄM MÔI TRƯỜNG Ở VIỆT NAM VÀ CÁC GIẢI PHÁP KHẮC PHỤC. idrs:  76\n",
      "Những vấn đề môi trường cấp bách hiện nay: Thực trạng và giải pháp idrs:  77\n",
      "Một số vấn đề về môi trường ở Việt Nam hiện nay- thực trạng và giải pháp idrs:  78\n",
      "Thực trạng môi trường hiện nay trên thế giới đang ở mức báo động idrs:  79\n",
      "Ô NHIỄM MÔI TRƯỜNG LÀ GÌ? THỰC TRẠNG, NGUYÊN NHÂN VÀ CÁCH KHẮC PHỤC idrs:  80\n",
      "LỢI ÍCH CỦA VIỆC ĐỌC SÁCH idrs:  81\n",
      "Sách là gì? Lợi ích của việc đọc sách? idrs:  82\n",
      "15 lợi ích của việc đọc sách mỗi ngày giúp bạn \"thành công\" idrs:  83\n",
      "8 lợi ích không ngờ của việc đọc sách mỗi ngày idrs:  84\n",
      "Các phương pháp chữa bệnh mất ngủ idrs:  85\n",
      "11 Cách Ngủ Nhanh Và Sâu Cho Người Mất Ngủ, Khó Ngủ idrs:  86\n",
      "LỢI ÍCH TO LỚN CỦA VIỆC ĐỌC SÁCH BẰNG TIẾNG ANH MÀ KHÔNG THỂ BỎ QUA idrs:  87\n",
      "10 cách tiết kiệm thời gian giúp bạn tăng chất lượng sống idrs:  88\n",
      "15 CÁCH TRỊ MẤT NGỦ KHÔNG DÙNG THUỐC HIỆU QUẢ TẠI NHÀ idrs:  89\n",
      "16 Cách tiết kiệm thời gian và công sức cho bản thân idrs:  90\n",
      "9 Cách Trị Mất Ngủ Tại Nhà Hiệu Quả – Ngủ Nhanh, Ngủ Sâu Giấc idrs:  91\n",
      "6 mẹo tiết kiệm 'thời gian vàng bạc' mỗi ngày idrs:  92\n",
      "7 Cách tiết kiệm thời gian hiệu quả bất ngờ, lâu dài idrs:  93\n",
      "Cách chữa mất ngủ không dùng thuốc ít người biết idrs:  94\n",
      "Thần số học - khoa học khám phá bản thân thông qua những con số idrs:  95\n",
      "Ý nghĩa số Chủ đạo 10 trong Thần số học idrs:  96\n",
      "Ý nghĩa số Chủ đạo 8 trong Thần số học idrs:  97\n",
      "5 cách tiết kiệm tiền từ tiền lương cho cuộc sống thoải mái, sung túc idrs:  98\n",
      "Ý nghĩa Số chủ đạo 2 trong Thần số học idrs:  99\n",
      "Ý nghĩa số Chủ đạo 3 trong Thần số học idrs:  100\n",
      "20+ Học cách tiết kiệm tiền và quản lý chi tiêu tốt nhất idrs:  101\n",
      "Bỏ túi 8 cách tiết kiệm tiền hiệu quả cho gia đình idrs:  102\n",
      "Cách tiết kiệm tiền theo tuần hiệu quả cho người thu nhập dưới 10 triệu idrs:  103\n",
      "<b>Chia sẻ cách tiết kiệm tiền hiệu quả cho người trẻ</b> idrs:  104\n",
      "Phong tục Tết cổ truyền Việt Nam idrs:  105\n",
      "Ý nghĩa số Chủ đạo 9 trong Thần số học idrs:  106\n",
      "Những phong tục trong ngày Tết cổ truyền idrs:  107\n",
      "Phong tục truyền thống trong ngày Tết cổ truyền của người Việt idrs:  108\n",
      "Giữ gìn, phát huy nét đẹp văn hóa Tết cổ truyền của Dân tộc Việt Nam idrs:  109\n",
      "Chuẩn bị đi du lịch? Cẩm nang từ A-Z giúp bạn có kỳ nghỉ TRỌN VẸN idrs:  110\n",
      "“SỐNG XANH” CÓ KHÓ NHƯ NHIỀU NGƯỜI NGHĨ? idrs:  111\n",
      "Từ A đến Z kinh nghiệm đi du lịch theo tour cho đoàn đông người vui hết cỡ idrs:  112\n",
      "Kinh nghiệm chuẩn bị cho chuyến du lịch hoàn hảo idrs:  113\n",
      "Hành trình sống xanh&nbsp;bắt đầu từ đâu? idrs:  114\n",
      "10 ĐIỀU ĐƠN GIẢN CHO CUỘC SỐNG XANH idrs:  115\n",
      "Những phương pháp giúp bạn cải thiện tiếng Anh hiệu quả idrs:  116\n",
      "5 Thói quen \"sống xanh\" giúp bảo vệ môi trường idrs:  117\n",
      "Những cách học giúp cải thiện tiếng Anh nhanh chóng idrs:  118\n",
      "10 cách để cải thiện kỹ năng nói tiếng Anh nhanh nhất idrs:  119\n",
      "5 cách để tự cải thiện tiếng Anh tại nhà idrs:  120\n",
      "Sống Xanh là gì? 7 cách để sống xanh, sống đẹp idrs:  121\n",
      "Ngủ 8 tiếng một ngày, liệu có được xem là ngủ đủ giấc? idrs:  122\n",
      "Ngủ lúc 1h khuya và thức lúc 9h sáng có gọi là ngủ đủ 8 tiếng không? idrs:  123\n",
      "SỰ THẬT VỀ GIẤC NGỦ – CÓ NHẤT THIẾT PHẢI NGỦ SỚM VÀ ĐỦ 8 GIỜ MỖI NGÀY? idrs:  124\n",
      "9 cách tận hưởng cuộc sống theo cách thực sự ý nghĩa idrs:  125\n",
      "Cách để Tận hưởng Cuộc sống idrs:  126\n",
      "Sống phải biết cho đi idrs:  127\n",
      "8 cách cải thiện chất lượng giấc ngủ cho tuổi già idrs:  128\n",
      "10 bí quyết vàng&nbsp;để có giấc ngủ sâu idrs:  129\n",
      "Công nghệ AI của hiện tại và tương lai idrs:  130\n",
      "Cùng tìm hiểu về công nghệ AI và áp dụng trí tuệ nhân tạo trong công nghệ idrs:  131\n",
      "Tìm hiểu công nghệ AI là gì? Cách phân loại công nghệ AI idrs:  132\n",
      "7 loại trí tuệ nhân tạo mà bạn cần phải biết idrs:  133\n",
      "Các loại trí tuệ nhân tạo được sử dụng phổ biến hiện nay idrs:  134\n",
      "Trí tuệ nhân tạo là gì? Có những loại trí tuệ nhân tạo nào? idrs:  135\n",
      "Tự động hóa là gì? Ứng dụng tự động hóa trong sản xuất công nghiệp idrs:  136\n",
      "Top 10 máy lọc không khí chạy nhất năm 2021&nbsp; idrs:  137\n",
      "Học tự động hóa cần những gì idrs:  138\n",
      "Công nghiệp 4.0 là gì—Industrial Internet of Things (IIoT)? idrs:  139\n",
      "Máy lọc không khí hãng nào tốt? Những thương hiệu máy lọc không khí tốt, chất lượng idrs:  140\n",
      "Cách mạng công nghiệp 4.0 - Cơ hội và thách thức của giai cấp công nhân Việt Nam hiện nay idrs:  141\n",
      "Máy lọc không khí nào tốt nhất hiện nay idrs:  142\n",
      "9 xu hướng công nghệ trong Công nghiệp 4.0 và lợi ích kinh tế, tiềm năng kỹ thuật đối với doanh nghiệp idrs:  143\n",
      "Giải đáp thắc mắc có nên mua máy lọc không khí để sử dụng tại nhà? idrs:  144\n",
      "Thuê phòng trọ và 10 điều nhất định phải lưu ý! idrs:  145\n",
      "“Nằm lòng” 7 điều này sinh viên đi thuê nhà trọ không lo bị hớ idrs:  146\n",
      "Sinh viên ở trọ cần lưu ý 3 điều sau trong hợp đồng thuê nhà idrs:  147\n",
      "9 kinh nghiệm tìm thuê nhà trọ bạn nhất định phải lưu ý idrs:  148\n",
      "THỰC TRẠNG GIAO THÔNG Ở VIỆT NAM idrs:  149\n",
      "Cả nước xảy ra 5.703 vụ tai nạn giao thông nửa đầu năm 2022 idrs:  150\n",
      "NHỮNG ĐIỀU THÚ VỊ VỀ GIAO THÔNG Ở VIỆT NAM idrs:  151\n",
      "Thực trạng giao thông Hà Nội và những vấn đề bất cập cần lời giải idrs:  152\n",
      "Những điểm nhấn của nền tảng trí tuệ nhân tạo VinBase idrs:  153\n",
      "Đẩy mạnh ứng dụng trí tuệ nhân tạo trong lĩnh vực hành chính công idrs:  154\n",
      "VinBigData ra mắt nền tảng trí tuệ nhân tạo đa nhận thức idrs:  155\n",
      "TRÍ TUỆ NHÂN TẠO (AI) LÀ GÌ? LỢI ÍCH, ỨNG DỤNG CỦA CÔNG NGHỆ AI TRONG SẢN XUẤT idrs:  156\n",
      "Nhiệm vụ và cơ cấu tổ chức mới của Viện Hàn lâm Khoa học xã hội Việt Nam idrs:  157\n",
      "'VinFuture khích lệ tinh thần nhà khoa học Việt' idrs:  158\n",
      "10 sự kiện khoa học công nghệ nổi bật nhất Việt Nam trong năm 2022 idrs:  159\n",
      "Cơ cấu tổ chức mới của Viện Hàn lâm Khoa học xã hội Việt Nam idrs:  160\n",
      "Chiếc áo dài – Nét đẹp văn hóa truyền thống của người phụ nữ Việt Nam idrs:  161\n",
      "Lịch sử phát triển áo dài Việt Nam qua các thời kỳ idrs:  162\n",
      "Áo dài - nét đẹp đặc sắc của văn hoá Việt Nam idrs:  163\n",
      "Ý nghĩa tà áo dài truyền thống Việt Nam – giá trị qua các thời kỳ lịch sử idrs:  164\n",
      "Văn hóa Tây Bắc - những mạch nguồn chảy mãi idrs:  165\n",
      "Sắc màu văn hóa các dân tộc vùng Tây Bắc idrs:  166\n",
      "Reactjs Là Gì? Những Điều Bạn Chưa Biết Về Reactjs. idrs:  167\n",
      "8 quyết định quan trọng về React Component idrs:  168\n",
      "NHỮNG ĐIỀU QUAN TRỌNG CỦA REACTJS BẠN CẦN BIẾT idrs:  169\n",
      "ReactJS – Những điều bạn cần phải biết idrs:  170\n",
      "Giới thiệu về ReactJS idrs:  171\n",
      "Thực tế ảo VR và thực tế ảo tăng cường AR idrs:  172\n",
      "Thực tế ảo - Công cụ trải nghiệm shopping mới idrs:  173\n",
      "5 yếu tố cần chú ý đối với thiết kế UX trong thực tế ảo (VR) idrs:  174\n",
      "Hướng dẫn làm VR với Unity idrs:  175\n",
      "Hướng dẫn làm game VR với Unity&nbsp; idrs:  176\n"
     ]
    }
   ],
   "source": [
    "for post in col.find():\n",
    "    print(post['title'], 'idrs: ', post['idrs'] if 'idrs' in post else False)"
   ]
  },
  {
   "cell_type": "code",
   "execution_count": 9,
   "id": "9ad26c46",
   "metadata": {},
   "outputs": [
    {
     "data": {
      "text/plain": [
       "'Văn hóa Tây Bắc - những mạch nguồn chảy mãi'"
      ]
     },
     "execution_count": 9,
     "metadata": {},
     "output_type": "execute_result"
    }
   ],
   "source": [
    "# main_post = col.find_one({\"_id\": ObjectId(\"6388c04363cdee37de74f09c\")})\n",
    "main_post = col.find_one({\"idrs\": 165})\n",
    "main_post['title']"
   ]
  },
  {
   "cell_type": "code",
   "execution_count": 10,
   "id": "0bed9b6a",
   "metadata": {},
   "outputs": [],
   "source": [
    "content = editorJs_data_to_text(json.loads(main_post[\"content\"]))\n",
    "text_corpus = make_texts_corpus([content])\n",
    "bow = id2word.doc2bow(next(text_corpus))"
   ]
  },
  {
   "cell_type": "code",
   "execution_count": 11,
   "id": "2bd06966",
   "metadata": {},
   "outputs": [],
   "source": [
    "vector_doc = lda_model[bow]"
   ]
  },
  {
   "cell_type": "code",
   "execution_count": 12,
   "id": "33c2c8c6",
   "metadata": {},
   "outputs": [],
   "source": [
    "sims = index[vector_doc]"
   ]
  },
  {
   "cell_type": "code",
   "execution_count": 13,
   "id": "4514ed96",
   "metadata": {},
   "outputs": [],
   "source": [
    "sims = sorted(enumerate(sims), key=lambda item: -item[1])\n",
    "#for doc_position, doc_score in sims:\n",
    "#    print(doc_score, doc_position)"
   ]
  },
  {
   "cell_type": "code",
   "execution_count": 20,
   "id": "ae907ec2",
   "metadata": {
    "scrolled": true
   },
   "outputs": [
    {
     "name": "stdout",
     "output_type": "stream",
     "text": [
      "Văn hóa Tây Bắc - những mạch nguồn chảy mãi\n",
      "0 165 1.0 Văn hóa Tây Bắc - những mạch nguồn chảy mãi\n",
      "1 166 0.9341245 Sắc màu văn hóa các dân tộc vùng Tây Bắc\n",
      "2 110 0.87812924 Chuẩn bị đi du lịch? Cẩm nang từ A-Z giúp bạn có kỳ nghỉ TRỌN VẸN\n",
      "3 163 0.84791946 Áo dài - nét đẹp đặc sắc của văn hoá Việt Nam\n",
      "4 161 0.80711055 Chiếc áo dài – Nét đẹp văn hóa truyền thống của người phụ nữ Việt Nam\n",
      "5 162 0.7901239 Lịch sử phát triển áo dài Việt Nam qua các thời kỳ\n",
      "6 107 0.75350416 Những phong tục trong ngày Tết cổ truyền\n",
      "7 29 0.73424983 Chia sẻ kinh nghiệm du lịch bụi đơn giản nhưng rất cần thiết cho du khách\n",
      "8 164 0.7148472 Ý nghĩa tà áo dài truyền thống Việt Nam – giá trị qua các thời kỳ lịch sử\n",
      "9 109 0.70836735 Giữ gìn, phát huy nét đẹp văn hóa Tết cổ truyền của Dân tộc Việt Nam\n",
      "10 108 0.5590424 Phong tục truyền thống trong ngày Tết cổ truyền của người Việt\n",
      "11 30 0.4939037 Kinh nghiệm du lịch Hạ Long tự túc cho người lần đầu mới đi\n",
      "12 105 0.42101556 Phong tục Tết cổ truyền Việt Nam\n",
      "13 112 0.37909755 Từ A đến Z kinh nghiệm đi du lịch theo tour cho đoàn đông người vui hết cỡ\n",
      "14 159 0.28907818 10 sự kiện khoa học công nghệ nổi bật nhất Việt Nam trong năm 2022\n",
      "15 151 0.28471613 NHỮNG ĐIỀU THÚ VỊ VỀ GIAO THÔNG Ở VIỆT NAM\n",
      "16 158 0.23710686 'VinFuture khích lệ tinh thần nhà khoa học Việt'\n",
      "17 96 0.22713032 Ý nghĩa số Chủ đạo 10 trong Thần số học\n",
      "18 28 0.22587872 Bỏ túi kinh nghiệm du lịch Việt Nam tự túc cho lần đầu khám phá\n",
      "19 114 0.2198146 Hành trình sống xanh&nbsp;bắt đầu từ đâu?\n",
      "20 118 0.21870567 Những cách học giúp cải thiện tiếng Anh nhanh chóng\n",
      "21 173 0.21387696 Thực tế ảo - Công cụ trải nghiệm shopping mới\n",
      "22 153 0.21317035 Những điểm nhấn của nền tảng trí tuệ nhân tạo VinBase\n",
      "23 117 0.19862647 5 Thói quen \"sống xanh\" giúp bảo vệ môi trường\n",
      "24 126 0.19316946 Cách để Tận hưởng Cuộc sống\n",
      "25 140 0.19193009 Máy lọc không khí hãng nào tốt? Những thương hiệu máy lọc không khí tốt, chất lượng\n",
      "26 142 0.19114852 Máy lọc không khí nào tốt nhất hiện nay\n",
      "27 99 0.19022638 Ý nghĩa Số chủ đạo 2 trong Thần số học\n",
      "28 141 0.17821278 Cách mạng công nghiệp 4.0 - Cơ hội và thách thức của giai cấp công nhân Việt Nam hiện nay\n",
      "29 154 0.17697375 Đẩy mạnh ứng dụng trí tuệ nhân tạo trong lĩnh vực hành chính công\n",
      "30 125 0.1726915 9 cách tận hưởng cuộc sống theo cách thực sự ý nghĩa\n",
      "31 155 0.17140049 VinBigData ra mắt nền tảng trí tuệ nhân tạo đa nhận thức\n",
      "32 144 0.16663697 Giải đáp thắc mắc có nên mua máy lọc không khí để sử dụng tại nhà?\n",
      "33 152 0.16354875 Thực trạng giao thông Hà Nội và những vấn đề bất cập cần lời giải\n",
      "34 137 0.1620985 Top 10 máy lọc không khí chạy nhất năm 2021&nbsp;\n",
      "35 97 0.16181694 Ý nghĩa số Chủ đạo 8 trong Thần số học\n",
      "36 65 0.158812 10 cách duy trì lối sống lành mạnh ai cũng có thể thực hiện\n",
      "37 176 0.15813808 Hướng dẫn làm game VR với Unity&nbsp;\n",
      "38 74 0.15757072 Nhu cầu 'bắt đáy' bất động sản tăng cao\n",
      "39 80 0.15516774 Ô NHIỄM MÔI TRƯỜNG LÀ GÌ? THỰC TRẠNG, NGUYÊN NHÂN VÀ CÁCH KHẮC PHỤC\n",
      "40 61 0.15229945 Duy trì lối sống lành mạnh nâng cao sức khỏe\n",
      "41 149 0.1489036 THỰC TRẠNG GIAO THÔNG Ở VIỆT NAM\n",
      "42 77 0.14254567 Những vấn đề môi trường cấp bách hiện nay: Thực trạng và giải pháp\n",
      "43 174 0.14054552 5 yếu tố cần chú ý đối với thiết kế UX trong thực tế ảo (VR)\n",
      "44 22 0.13943064 Agile Marketing khái niệm và tại sao nên áp dụng Agile trong Marketing\n",
      "45 169 0.13836136 NHỮNG ĐIỀU QUAN TRỌNG CỦA REACTJS BẠN CẦN BIẾT\n",
      "46 172 0.13453273 Thực tế ảo VR và thực tế ảo tăng cường AR\n",
      "47 79 0.13256438 Thực trạng môi trường hiện nay trên thế giới đang ở mức báo động\n",
      "48 150 0.13242003 Cả nước xảy ra 5.703 vụ tai nạn giao thông nửa đầu năm 2022\n",
      "49 111 0.1323688 “SỐNG XANH” CÓ KHÓ NHƯ NHIỀU NGƯỜI NGHĨ?\n",
      "50 170 0.13096438 ReactJS – Những điều bạn cần phải biết\n",
      "51 78 0.12980002 Một số vấn đề về môi trường ở Việt Nam hiện nay- thực trạng và giải pháp\n",
      "52 116 0.12889615 Những phương pháp giúp bạn cải thiện tiếng Anh hiệu quả\n",
      "53 63 0.12882514 Bắt nhịp lối sống lành mạnh&nbsp;với 4 bước siêu đơn giản\n",
      "54 157 0.12870048 Nhiệm vụ và cơ cấu tổ chức mới của Viện Hàn lâm Khoa học xã hội Việt Nam\n",
      "55 19 0.12828438 Trí tuệ nhân tạo với Swift\n",
      "56 91 0.1273932 9 Cách Trị Mất Ngủ Tại Nhà Hiệu Quả – Ngủ Nhanh, Ngủ Sâu Giấc\n",
      "57 70 0.12606195 11 chế độ ăn uống lành mạnh nhất năm 2020\n",
      "58 95 0.12456405 Thần số học - khoa học khám phá bản thân thông qua những con số\n",
      "59 76 0.123895645 THỰC TRẠNG Ô NHIỄM MÔI TRƯỜNG Ở VIỆT NAM VÀ CÁC GIẢI PHÁP KHẮC PHỤC.\n",
      "60 0 0.122906305 ĐỒ ÁN THIẾT KẾ WEBSITE BLOG SITE\n",
      "61 39 0.12095233 Calories là gì? Tìm hiểu calo trong việc tăng &amp; giảm cân hiệu quả.\n",
      "62 121 0.12053688 Sống Xanh là gì? 7 cách để sống xanh, sống đẹp\n",
      "63 175 0.119073644 Hướng dẫn làm VR với Unity\n",
      "64 127 0.11774633 Sống phải biết cho đi\n",
      "65 115 0.115224145 10 ĐIỀU ĐƠN GIẢN CHO CUỘC SỐNG XANH\n",
      "66 44 0.113679655 5 ngôn ngữ lập trình phổ biến nhất Việt Nam năm 2020\n",
      "67 106 0.11295732 Ý nghĩa số Chủ đạo 9 trong Thần số học\n",
      "68 69 0.11210111 5 bí quyết cực đơn giản để có chế độ ăn uống lành mạnh hơn\n",
      "69 68 0.11124391 5 lợi ích của việc ăn uống lành mạnh\n",
      "70 160 0.110314645 Cơ cấu tổ chức mới của Viện Hàn lâm Khoa học xã hội Việt Nam\n",
      "71 119 0.11017472 10 cách để cải thiện kỹ năng nói tiếng Anh nhanh nhất\n",
      "72 123 0.10970371 Ngủ lúc 1h khuya và thức lúc 9h sáng có gọi là ngủ đủ 8 tiếng không?\n",
      "73 81 0.10887674 LỢI ÍCH CỦA VIỆC ĐỌC SÁCH\n",
      "74 75 0.10876595 Thực Trạng Ô Nhiễm Môi Trường Ở Việt Nam Hiện Nay\n",
      "75 94 0.10856661 Cách chữa mất ngủ không dùng thuốc ít người biết\n",
      "76 88 0.108267814 10 cách tiết kiệm thời gian giúp bạn tăng chất lượng sống\n",
      "77 139 0.10679065 Công nghiệp 4.0 là gì—Industrial Internet of Things (IIoT)?\n",
      "78 67 0.10653251 8 cách ăn uống lành mạnh và giúp bạn có cuộc sống khỏe mạnh hơn\n",
      "79 71 0.10652774 10 lời khuyên đơn giản làm cho chế độ ăn uống của bạn lành mạnh hơn\n",
      "80 66 0.106470294 Chế độ ăn uống lành mạnh là gì và làm cách nào để bắt đầu?\n",
      "81 92 0.10632426 6 mẹo tiết kiệm 'thời gian vàng bạc' mỗi ngày\n",
      "82 89 0.1059367 15 CÁCH TRỊ MẤT NGỦ KHÔNG DÙNG THUỐC HIỆU QUẢ TẠI NHÀ\n",
      "83 113 0.10300291 Kinh nghiệm chuẩn bị cho chuyến du lịch hoàn hảo\n",
      "84 12 0.10283059 Front-End Web Developers\n",
      "85 4 0.10261994 Những câu hỏi lập trình khi pv (2): bài toán ATM\n",
      "86 143 0.10179657 9 xu hướng công nghệ trong Công nghiệp 4.0 và lợi ích kinh tế, tiềm năng kỹ thuật đối với doanh nghiệp\n",
      "87 56 0.10137887 CHU KỲ KHỦNG HOẢNG KINH TẾ 10 NĂM: NGUY CƠ TỪ NỘI TẠI NỀN KINH TẾ\n",
      "88 90 0.09984855 16 Cách tiết kiệm thời gian và công sức cho bản thân\n",
      "89 129 0.097445555 10 bí quyết vàng&nbsp;để có giấc ngủ sâu\n",
      "90 62 0.09572588 Những lợi ích bất ngờ khi bạn duy trì lối sống lành mạnh\n",
      "91 3 0.095448524 Các bài tập java cơ bản\n",
      "92 122 0.094038054 Ngủ 8 tiếng một ngày, liệu có được xem là ngủ đủ giấc?\n",
      "93 85 0.09399984 Các phương pháp chữa bệnh mất ngủ\n",
      "94 41 0.091896564 Bạn nên ăn bao nhiêu calo mỗi ngày để giảm cân?\n",
      "95 120 0.091850825 5 cách để tự cải thiện tiếng Anh tại nhà\n",
      "96 136 0.091440484 Tự động hóa là gì? Ứng dụng tự động hóa trong sản xuất công nghiệp\n",
      "97 40 0.08923899 Top 15 ngôn ngữ lập trình phổ biến nhất thế giới, bạn đã biết hết chưa?\n",
      "98 130 0.08819315 Công nghệ AI của hiện tại và tương lai\n",
      "99 42 0.08803436 Ngôn ngữ lập trình là gì - Top 9 ngôn ngữ lập trình phổ biến\n"
     ]
    }
   ],
   "source": [
    "print(main_post['title'])\n",
    "i=0\n",
    "for idrs, distance in sims:\n",
    "    article = col.find_one({\"idrs\": idrs})\n",
    "    print(i, idrs, distance, article['title'])\n",
    "    i+=1\n",
    "    if(i==100): break\n",
    "    "
   ]
  },
  {
   "cell_type": "code",
   "execution_count": 15,
   "id": "7d456ce0",
   "metadata": {},
   "outputs": [
    {
     "name": "stdout",
     "output_type": "stream",
     "text": [
      "165\n"
     ]
    },
    {
     "data": {
      "text/plain": [
       "[166, 110, 163, 161, 162, 107, 29, 164, 109]"
      ]
     },
     "execution_count": 15,
     "metadata": {},
     "output_type": "execute_result"
    }
   ],
   "source": [
    "arr = [tup[0] for tup in sims[:10]]\n",
    "if 'idrs' in main_post: \n",
    "    if main_post['idrs'] in arr: arr.remove(main_post['idrs'])\n",
    "print(main_post['idrs'])\n",
    "list(arr)"
   ]
  }
 ],
 "metadata": {
  "kernelspec": {
   "display_name": "Python 3 (ipykernel)",
   "language": "python",
   "name": "python3"
  },
  "language_info": {
   "codemirror_mode": {
    "name": "ipython",
    "version": 3
   },
   "file_extension": ".py",
   "mimetype": "text/x-python",
   "name": "python",
   "nbconvert_exporter": "python",
   "pygments_lexer": "ipython3",
   "version": "3.9.6"
  }
 },
 "nbformat": 4,
 "nbformat_minor": 5
}
