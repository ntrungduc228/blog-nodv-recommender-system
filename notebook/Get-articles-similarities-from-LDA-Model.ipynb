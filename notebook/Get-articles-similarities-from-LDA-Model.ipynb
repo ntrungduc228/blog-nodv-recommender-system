{
 "cells": [
  {
   "cell_type": "code",
   "execution_count": 47,
   "id": "65454030",
   "metadata": {},
   "outputs": [],
   "source": [
    "import sys\n",
    "import requests\n",
    "from time import sleep\n",
    "\n",
    "from tqdm import tqdm\n",
    "import pymongo\n",
    "from pymongo import MongoClient\n",
    "from bson.objectid import ObjectId\n",
    "import gensim"
   ]
  },
  {
   "cell_type": "code",
   "execution_count": 48,
   "id": "88539d9c",
   "metadata": {},
   "outputs": [],
   "source": [
    "sys.path.append('../')"
   ]
  },
  {
   "cell_type": "code",
   "execution_count": 49,
   "id": "715804a8",
   "metadata": {},
   "outputs": [],
   "source": [
    "from src import settings"
   ]
  },
  {
   "cell_type": "code",
   "execution_count": 50,
   "id": "f85d4ea5",
   "metadata": {},
   "outputs": [],
   "source": [
    "client = MongoClient(settings.MONGODB_SETTINGS['host'])\n",
    "db = client[settings.MONGODB_SETTINGS['db']]\n",
    "col = db[settings.MONGODB_SETTINGS['collection']]"
   ]
  },
  {
   "cell_type": "code",
   "execution_count": 51,
   "id": "d0eb7bbd",
   "metadata": {},
   "outputs": [],
   "source": [
    "from src.models import make_texts_corpus\n",
    "from src.utils import editorJs_data_to_text\n",
    "import json\n",
    "from gensim.matutils import cossim\n",
    "from gensim import similarities"
   ]
  },
  {
   "cell_type": "code",
   "execution_count": 52,
   "id": "06655038",
   "metadata": {},
   "outputs": [
    {
     "name": "stderr",
     "output_type": "stream",
     "text": [
      "INFO : loading Dictionary object from ../models/id2word.dictionary\n",
      "INFO : Dictionary lifecycle event {'fname': '../models/id2word.dictionary', 'datetime': '2023-01-01T08:27:00.441545', 'gensim': '4.2.0', 'python': '3.9.6 (tags/v3.9.6:db3ff76, Jun 28 2021, 15:26:21) [MSC v.1929 64 bit (AMD64)]', 'platform': 'Windows-10-10.0.19045-SP0', 'event': 'loaded'}\n",
      "INFO : loaded corpus index from ../models/corpus.mm.index\n",
      "INFO : initializing cython corpus reader from ../models/corpus.mm\n",
      "INFO : accepted corpus with 177 documents, 4087 features, 36185 non-zero entries\n",
      "INFO : loading LdaModel object from ../models/LDA.model\n",
      "INFO : loading expElogbeta from ../models/LDA.model.expElogbeta.npy with mmap=None\n",
      "INFO : setting ignored attribute state to None\n",
      "INFO : setting ignored attribute dispatcher to None\n",
      "INFO : setting ignored attribute id2word to None\n",
      "INFO : LdaModel lifecycle event {'fname': '../models/LDA.model', 'datetime': '2023-01-01T08:27:00.512557', 'gensim': '4.2.0', 'python': '3.9.6 (tags/v3.9.6:db3ff76, Jun 28 2021, 15:26:21) [MSC v.1929 64 bit (AMD64)]', 'platform': 'Windows-10-10.0.19045-SP0', 'event': 'loaded'}\n",
      "INFO : loading LdaState object from ../models/LDA.model.state\n",
      "INFO : LdaState lifecycle event {'fname': '../models/LDA.model.state', 'datetime': '2023-01-01T08:27:00.537555', 'gensim': '4.2.0', 'python': '3.9.6 (tags/v3.9.6:db3ff76, Jun 28 2021, 15:26:21) [MSC v.1929 64 bit (AMD64)]', 'platform': 'Windows-10-10.0.19045-SP0', 'event': 'loaded'}\n"
     ]
    }
   ],
   "source": [
    "id2word = gensim.corpora.Dictionary.load(settings.PATH_DICTIONARY)\n",
    "corpus = gensim.corpora.MmCorpus('../models/corpus.mm')\n",
    "lda_model = gensim.models.ldamodel.LdaModel.load('../models/LDA.model')"
   ]
  },
  {
   "cell_type": "code",
   "execution_count": 53,
   "id": "fc8e5e5b",
   "metadata": {},
   "outputs": [
    {
     "name": "stderr",
     "output_type": "stream",
     "text": [
      "WARNING : scanning corpus to determine the number of features (consider setting `num_features` explicitly)\n",
      "INFO : creating matrix with 177 documents and 57 features\n"
     ]
    }
   ],
   "source": [
    "index = similarities.MatrixSimilarity(lda_model[corpus])"
   ]
  },
  {
   "cell_type": "code",
   "execution_count": 54,
   "id": "96f309a2",
   "metadata": {},
   "outputs": [
    {
     "name": "stdout",
     "output_type": "stream",
     "text": [
      "ĐỒ ÁN THIẾT KẾ WEBSITE BLOG SITE idrs:  0\n",
      "Regular Expression trong Javascript idrs:  1\n",
      "Các bài tập java cơ bản idrs:  2\n",
      "Những câu hỏi lập trình khi pv (2): bài toán ATM idrs:  3\n",
      "Ví dụ sắp xếp nổi bọt với Java idrs:  4\n",
      "Chương trình lọc thư rác bằng Java, code ví dụ idrs:  5\n",
      "Đọc ghi file Excel trong Java sử dụng Apache POI idrs:  6\n",
      "THREAD AND THREAD POOLS IN JAVA idrs:  7\n",
      "Sử dụng CountDownLatch trong Java idrs:  8\n",
      "Multithreading: Java Synchronized Blocks idrs:  9\n",
      "Understand synchronized and improve lock performance in Java idrs:  10\n",
      "Front-End Web Developers idrs:  11\n",
      "Material Design for Web Design idrs:  12\n",
      "Những kỹ năng cần phải có của một Web Designer idrs:  13\n",
      "Rest API - cách Frontend và Backend nói chuyện với nhau qua ví dụ cụ thể idrs:  14\n",
      "Điều cần chú ý để xây dựng RESTful API idrs:  15\n",
      "Dựng một API RESTful đơn giản sử dụng Express và MongoDB idrs:  16\n",
      "xây dựng API với Napa idrs:  17\n",
      "Trí tuệ nhân tạo với Swift idrs:  18\n",
      "Lợi ích và nguy cơ của trí tuệ nhân tạo (AI) idrs:  19\n",
      "Liệu chúng ta có thể xây dựng trí tuệ nhân tạo mà không mất kiểm soát đối với nó? idrs:  20\n",
      "Agile Marketing khái niệm và tại sao nên áp dụng Agile trong Marketing idrs:  21\n",
      "Cách thức mà Agile Marketing vận hành idrs:  22\n",
      "Agile Software Development idrs:  23\n",
      "Waterfall vs Agile vs Scrum - Part 1: Agile là gì? idrs:  24\n",
      "Cấu trúc của User stories trong Agile Marketing idrs:  25\n",
      "Kinh nghiệm chuẩn bị cho chuyến du lịch hoàn hảo idrs:  26\n",
      "Bỏ túi kinh nghiệm du lịch Việt Nam tự túc cho lần đầu khám phá idrs:  27\n",
      "Chia sẻ kinh nghiệm du lịch bụi đơn giản nhưng rất cần thiết cho du khách idrs:  28\n",
      "Kinh nghiệm du lịch Hạ Long tự túc cho người lần đầu mới đi idrs:  29\n",
      "Muốn khởi nghiệp? Hãy dành 5 phút đọc bài viết này. idrs:  30\n",
      "Muốn khởi nghiệp? Hãy dành 5 phút đọc bài viết này. idrs:  31\n",
      "6 LOẠI HÌNH KHỞI NGHIỆP BẠN CẦN BIẾT idrs:  32\n",
      "6 LOẠI HÌNH KHỞI NGHIỆP BẠN CẦN BIẾT idrs:  33\n",
      "6 LOẠI HÌNH KHỞI NGHIỆP BẠN CẦN BIẾT idrs:  34\n",
      "Cách khởi nghiệp từ 2 bàn tay trắng bạn không nên bỏ qua idrs:  35\n",
      "Những cách khởi nghiệp hay và xu hướng khởi nghiệp bạn nên biết idrs:  36\n",
      "Những cách khởi nghiệp hay và xu hướng khởi nghiệp bạn nên biết idrs:  37\n",
      "Calories là gì? Tìm hiểu calo trong việc tăng &amp; giảm cân hiệu quả. idrs:  38\n",
      "Top 15 ngôn ngữ lập trình phổ biến nhất thế giới, bạn đã biết hết chưa? idrs:  39\n",
      "Bạn nên ăn bao nhiêu calo mỗi ngày để giảm cân? idrs:  40\n",
      "Ngôn ngữ lập trình là gì - Top 9 ngôn ngữ lập trình phổ biến idrs:  41\n",
      "1 ngày cần bao nhiêu calo để tăng cân? Cách tính lượng calo nạp vào cơ thể idrs:  42\n",
      "5 ngôn ngữ lập trình phổ biến nhất Việt Nam năm 2020 idrs:  43\n",
      "CALO LÀ GÌ? BẢNG TÍNH CALORIES DÀNH CHO NGƯỜI GIẢM CÂN CẦN BIẾT idrs:  44\n",
      "Cách tính calo giảm cân chuẩn như chuyên gia idrs:  45\n",
      "Skincare là gì? Quy trình và lợi ích của skincare như thế nào? idrs:  46\n",
      "Hướng dẫn quy trình chăm sóc da mặt khoa học cho làn da khỏe đẹp idrs:  47\n",
      "Thế Nào Là Chăm Sóc Da Khoa Học? Bạn Thực Sự Đã Hiểu Đúng? idrs:  48\n",
      "Hướng dẫn thứ tự skincare \"chuẩn không cần chỉnh\" idrs:  49\n",
      "Khủng hoảng kinh tế là gì? Nguyên nhân, bản chất khủng hoảng kinh tế idrs:  50\n",
      "Thượng đỉnh G20&nbsp;bàn về khủng hoảng kinh tế toàn cầu idrs:  51\n",
      "Kinh tế thế giới ra sao năm 2023? idrs:  52\n",
      "Lịch sử những cuộc khủng hoảng kinh tế thế giới từ trước đến nay idrs:  53\n",
      "Nguyên nhân nào đẩy kinh tế thế giới tới bờ vực suy thoái? idrs:  54\n",
      "CHU KỲ KHỦNG HOẢNG KINH TẾ 10 NĂM: NGUY CƠ TỪ NỘI TẠI NỀN KINH TẾ idrs:  55\n",
      "VIỆT NAM TRƯỚC KHÓ KHĂN, THÁCH THỨC CỦA KINH TẾ THẾ GIỚI idrs:  56\n",
      "TOP 5 các đồng tiền ảo nên đầu tư nhất vì độ HOT của chúng chưa bao giờ dừng idrs:  57\n",
      "Đầu tư tiền ảo là gì? Bắt đầu như thế nào cho người mới? idrs:  58\n",
      "Khủng hoảng tiền số: Tái ông thất mã? idrs:  59\n",
      "Duy trì lối sống lành mạnh nâng cao sức khỏe idrs:  60\n",
      "Những lợi ích bất ngờ khi bạn duy trì lối sống lành mạnh idrs:  61\n",
      "Bắt nhịp lối sống lành mạnh&nbsp;với 4 bước siêu đơn giản idrs:  62\n",
      "Lối sống lành mạnh có thể làm giảm nguy cơ sa sút trí tuệ và kéo dài tuổi thọ idrs:  63\n",
      "10 cách duy trì lối sống lành mạnh ai cũng có thể thực hiện idrs:  64\n",
      "Chế độ ăn uống lành mạnh là gì và làm cách nào để bắt đầu? idrs:  65\n",
      "8 cách ăn uống lành mạnh và giúp bạn có cuộc sống khỏe mạnh hơn idrs:  66\n",
      "5 lợi ích của việc ăn uống lành mạnh idrs:  67\n",
      "5 bí quyết cực đơn giản để có chế độ ăn uống lành mạnh hơn idrs:  68\n",
      "11 chế độ ăn uống lành mạnh nhất năm 2020 idrs:  69\n",
      "10 lời khuyên đơn giản làm cho chế độ ăn uống của bạn lành mạnh hơn idrs:  70\n",
      "Khi nào bất động sản đảo chiều? idrs:  71\n",
      "Bất động sản Việt đang mất dần lợi thế cạnh tranh idrs:  72\n",
      "Nhu cầu 'bắt đáy' bất động sản tăng cao idrs:  73\n",
      "Thực Trạng Ô Nhiễm Môi Trường Ở Việt Nam Hiện Nay idrs:  74\n",
      "THỰC TRẠNG Ô NHIỄM MÔI TRƯỜNG Ở VIỆT NAM VÀ CÁC GIẢI PHÁP KHẮC PHỤC. idrs:  75\n",
      "Những vấn đề môi trường cấp bách hiện nay: Thực trạng và giải pháp idrs:  76\n",
      "Một số vấn đề về môi trường ở Việt Nam hiện nay- thực trạng và giải pháp idrs:  77\n",
      "Thực trạng môi trường hiện nay trên thế giới đang ở mức báo động idrs:  78\n",
      "Ô NHIỄM MÔI TRƯỜNG LÀ GÌ? THỰC TRẠNG, NGUYÊN NHÂN VÀ CÁCH KHẮC PHỤC idrs:  79\n",
      "LỢI ÍCH CỦA VIỆC ĐỌC SÁCH idrs:  80\n",
      "Sách là gì? Lợi ích của việc đọc sách? idrs:  81\n",
      "15 lợi ích của việc đọc sách mỗi ngày giúp bạn \"thành công\" idrs:  82\n",
      "8 lợi ích không ngờ của việc đọc sách mỗi ngày idrs:  83\n",
      "Các phương pháp chữa bệnh mất ngủ idrs:  84\n",
      "11 Cách Ngủ Nhanh Và Sâu Cho Người Mất Ngủ, Khó Ngủ idrs:  85\n",
      "LỢI ÍCH TO LỚN CỦA VIỆC ĐỌC SÁCH BẰNG TIẾNG ANH MÀ KHÔNG THỂ BỎ QUA idrs:  86\n",
      "10 cách tiết kiệm thời gian giúp bạn tăng chất lượng sống idrs:  87\n",
      "15 CÁCH TRỊ MẤT NGỦ KHÔNG DÙNG THUỐC HIỆU QUẢ TẠI NHÀ idrs:  88\n",
      "16 Cách tiết kiệm thời gian và công sức cho bản thân idrs:  89\n",
      "9 Cách Trị Mất Ngủ Tại Nhà Hiệu Quả – Ngủ Nhanh, Ngủ Sâu Giấc idrs:  90\n",
      "6 mẹo tiết kiệm 'thời gian vàng bạc' mỗi ngày idrs:  91\n",
      "7 Cách tiết kiệm thời gian hiệu quả bất ngờ, lâu dài idrs:  92\n",
      "Cách chữa mất ngủ không dùng thuốc ít người biết idrs:  93\n",
      "Thần số học - khoa học khám phá bản thân thông qua những con số idrs:  94\n",
      "Ý nghĩa số Chủ đạo 10 trong Thần số học idrs:  95\n",
      "Ý nghĩa số Chủ đạo 8 trong Thần số học idrs:  96\n",
      "5 cách tiết kiệm tiền từ tiền lương cho cuộc sống thoải mái, sung túc idrs:  97\n",
      "Ý nghĩa Số chủ đạo 2 trong Thần số học idrs:  98\n",
      "Ý nghĩa số Chủ đạo 3 trong Thần số học idrs:  99\n",
      "20+ Học cách tiết kiệm tiền và quản lý chi tiêu tốt nhất idrs:  100\n",
      "Bỏ túi 8 cách tiết kiệm tiền hiệu quả cho gia đình idrs:  101\n",
      "Cách tiết kiệm tiền theo tuần hiệu quả cho người thu nhập dưới 10 triệu idrs:  102\n",
      "<b>Chia sẻ cách tiết kiệm tiền hiệu quả cho người trẻ</b> idrs:  103\n",
      "Phong tục Tết cổ truyền Việt Nam idrs:  104\n",
      "Ý nghĩa số Chủ đạo 9 trong Thần số học idrs:  105\n",
      "Những phong tục trong ngày Tết cổ truyền idrs:  106\n",
      "Phong tục truyền thống trong ngày Tết cổ truyền của người Việt idrs:  107\n",
      "Giữ gìn, phát huy nét đẹp văn hóa Tết cổ truyền của Dân tộc Việt Nam idrs:  108\n",
      "Chuẩn bị đi du lịch? Cẩm nang từ A-Z giúp bạn có kỳ nghỉ TRỌN VẸN idrs:  109\n",
      "“SỐNG XANH” CÓ KHÓ NHƯ NHIỀU NGƯỜI NGHĨ? idrs:  110\n",
      "Từ A đến Z kinh nghiệm đi du lịch theo tour cho đoàn đông người vui hết cỡ idrs:  111\n",
      "Kinh nghiệm chuẩn bị cho chuyến du lịch hoàn hảo idrs:  112\n",
      "Hành trình sống xanh&nbsp;bắt đầu từ đâu? idrs:  113\n",
      "10 ĐIỀU ĐƠN GIẢN CHO CUỘC SỐNG XANH idrs:  114\n",
      "Những phương pháp giúp bạn cải thiện tiếng Anh hiệu quả idrs:  115\n",
      "5 Thói quen \"sống xanh\" giúp bảo vệ môi trường idrs:  116\n",
      "Những cách học giúp cải thiện tiếng Anh nhanh chóng idrs:  117\n",
      "10 cách để cải thiện kỹ năng nói tiếng Anh nhanh nhất idrs:  118\n",
      "5 cách để tự cải thiện tiếng Anh tại nhà idrs:  119\n",
      "Sống Xanh là gì? 7 cách để sống xanh, sống đẹp idrs:  120\n",
      "Ngủ 8 tiếng một ngày, liệu có được xem là ngủ đủ giấc? idrs:  121\n",
      "Ngủ lúc 1h khuya và thức lúc 9h sáng có gọi là ngủ đủ 8 tiếng không? idrs:  122\n",
      "SỰ THẬT VỀ GIẤC NGỦ – CÓ NHẤT THIẾT PHẢI NGỦ SỚM VÀ ĐỦ 8 GIỜ MỖI NGÀY? idrs:  123\n",
      "9 cách tận hưởng cuộc sống theo cách thực sự ý nghĩa idrs:  124\n",
      "Cách để Tận hưởng Cuộc sống idrs:  125\n",
      "Sống phải biết cho đi idrs:  126\n",
      "8 cách cải thiện chất lượng giấc ngủ cho tuổi già idrs:  127\n",
      "10 bí quyết vàng&nbsp;để có giấc ngủ sâu idrs:  128\n",
      "Công nghệ AI của hiện tại và tương lai idrs:  129\n",
      "Cùng tìm hiểu về công nghệ AI và áp dụng trí tuệ nhân tạo trong công nghệ idrs:  130\n",
      "Tìm hiểu công nghệ AI là gì? Cách phân loại công nghệ AI idrs:  131\n",
      "7 loại trí tuệ nhân tạo mà bạn cần phải biết idrs:  132\n",
      "Các loại trí tuệ nhân tạo được sử dụng phổ biến hiện nay idrs:  133\n",
      "Trí tuệ nhân tạo là gì? Có những loại trí tuệ nhân tạo nào? idrs:  134\n",
      "Tự động hóa là gì? Ứng dụng tự động hóa trong sản xuất công nghiệp idrs:  135\n",
      "Top 10 máy lọc không khí chạy nhất năm 2021&nbsp; idrs:  136\n",
      "Học tự động hóa cần những gì idrs:  137\n",
      "Công nghiệp 4.0 là gì—Industrial Internet of Things (IIoT)? idrs:  138\n",
      "Máy lọc không khí hãng nào tốt? Những thương hiệu máy lọc không khí tốt, chất lượng idrs:  139\n",
      "Cách mạng công nghiệp 4.0 - Cơ hội và thách thức của giai cấp công nhân Việt Nam hiện nay idrs:  140\n",
      "Máy lọc không khí nào tốt nhất hiện nay idrs:  141\n",
      "9 xu hướng công nghệ trong Công nghiệp 4.0 và lợi ích kinh tế, tiềm năng kỹ thuật đối với doanh nghiệp idrs:  142\n",
      "Giải đáp thắc mắc có nên mua máy lọc không khí để sử dụng tại nhà? idrs:  143\n",
      "Thuê phòng trọ và 10 điều nhất định phải lưu ý! idrs:  144\n",
      "“Nằm lòng” 7 điều này sinh viên đi thuê nhà trọ không lo bị hớ idrs:  145\n",
      "Sinh viên ở trọ cần lưu ý 3 điều sau trong hợp đồng thuê nhà idrs:  146\n",
      "9 kinh nghiệm tìm thuê nhà trọ bạn nhất định phải lưu ý idrs:  147\n",
      "THỰC TRẠNG GIAO THÔNG Ở VIỆT NAM idrs:  148\n",
      "Cả nước xảy ra 5.703 vụ tai nạn giao thông nửa đầu năm 2022 idrs:  149\n",
      "NHỮNG ĐIỀU THÚ VỊ VỀ GIAO THÔNG Ở VIỆT NAM idrs:  150\n",
      "Thực trạng giao thông Hà Nội và những vấn đề bất cập cần lời giải idrs:  151\n",
      "Những điểm nhấn của nền tảng trí tuệ nhân tạo VinBase idrs:  152\n",
      "Đẩy mạnh ứng dụng trí tuệ nhân tạo trong lĩnh vực hành chính công idrs:  153\n",
      "VinBigData ra mắt nền tảng trí tuệ nhân tạo đa nhận thức idrs:  154\n",
      "TRÍ TUỆ NHÂN TẠO (AI) LÀ GÌ? LỢI ÍCH, ỨNG DỤNG CỦA CÔNG NGHỆ AI TRONG SẢN XUẤT idrs:  155\n",
      "Nhiệm vụ và cơ cấu tổ chức mới của Viện Hàn lâm Khoa học xã hội Việt Nam idrs:  156\n",
      "'VinFuture khích lệ tinh thần nhà khoa học Việt' idrs:  157\n",
      "10 sự kiện khoa học công nghệ nổi bật nhất Việt Nam trong năm 2022 idrs:  158\n",
      "Cơ cấu tổ chức mới của Viện Hàn lâm Khoa học xã hội Việt Nam idrs:  159\n",
      "Chiếc áo dài – Nét đẹp văn hóa truyền thống của người phụ nữ Việt Nam idrs:  160\n",
      "Lịch sử phát triển áo dài Việt Nam qua các thời kỳ idrs:  161\n",
      "Áo dài - nét đẹp đặc sắc của văn hoá Việt Nam idrs:  162\n",
      "Ý nghĩa tà áo dài truyền thống Việt Nam – giá trị qua các thời kỳ lịch sử idrs:  163\n",
      "Văn hóa Tây Bắc - những mạch nguồn chảy mãi idrs:  164\n",
      "Sắc màu văn hóa các dân tộc vùng Tây Bắc idrs:  165\n",
      "Reactjs Là Gì? Những Điều Bạn Chưa Biết Về Reactjs. idrs:  166\n",
      "8 quyết định quan trọng về React Component idrs:  167\n",
      "NHỮNG ĐIỀU QUAN TRỌNG CỦA REACTJS BẠN CẦN BIẾT idrs:  168\n",
      "ReactJS – Những điều bạn cần phải biết idrs:  169\n",
      "Giới thiệu về ReactJS idrs:  170\n",
      "Thực tế ảo VR và thực tế ảo tăng cường AR idrs:  171\n",
      "Thực tế ảo - Công cụ trải nghiệm shopping mới idrs:  172\n",
      "5 yếu tố cần chú ý đối với thiết kế UX trong thực tế ảo (VR) idrs:  173\n",
      "Hướng dẫn làm VR với Unity idrs:  174\n",
      "Hướng dẫn làm game VR với Unity idrs:  175\n",
      "Hướng dẫn làm VR với Unity idrs:  176\n"
     ]
    }
   ],
   "source": [
    "for post in col.find():\n",
    "    print(post['title'], 'idrs: ', post['idrs'] if 'idrs' in post else False)"
   ]
  },
  {
   "cell_type": "code",
   "execution_count": 55,
   "id": "9ad26c46",
   "metadata": {},
   "outputs": [
    {
     "data": {
      "text/plain": [
       "'Sắc màu văn hóa các dân tộc vùng Tây Bắc'"
      ]
     },
     "execution_count": 55,
     "metadata": {},
     "output_type": "execute_result"
    }
   ],
   "source": [
    "# main_post = col.find_one({\"_id\": ObjectId(\"6388c04363cdee37de74f09c\")})\n",
    "main_post = col.find_one({\"idrs\": 165})\n",
    "main_post['title']"
   ]
  },
  {
   "cell_type": "code",
   "execution_count": 56,
   "id": "0bed9b6a",
   "metadata": {},
   "outputs": [],
   "source": [
    "content = editorJs_data_to_text(json.loads(main_post[\"content\"]))\n",
    "text_corpus = make_texts_corpus([content])\n",
    "bow = id2word.doc2bow(next(text_corpus))"
   ]
  },
  {
   "cell_type": "code",
   "execution_count": 57,
   "id": "2bd06966",
   "metadata": {},
   "outputs": [],
   "source": [
    "vector_doc = lda_model[bow]"
   ]
  },
  {
   "cell_type": "code",
   "execution_count": 58,
   "id": "33c2c8c6",
   "metadata": {},
   "outputs": [],
   "source": [
    "sims = index[vector_doc]"
   ]
  },
  {
   "cell_type": "code",
   "execution_count": 59,
   "id": "4514ed96",
   "metadata": {},
   "outputs": [],
   "source": [
    "sims = sorted(enumerate(sims), key=lambda item: -item[1])\n",
    "#for doc_position, doc_score in sims:\n",
    "#    print(doc_score, doc_position)"
   ]
  },
  {
   "cell_type": "code",
   "execution_count": 60,
   "id": "ae907ec2",
   "metadata": {
    "scrolled": true
   },
   "outputs": [
    {
     "name": "stdout",
     "output_type": "stream",
     "text": [
      "Sắc màu văn hóa các dân tộc vùng Tây Bắc\n",
      "0 166 0.99999994 Reactjs Là Gì? Những Điều Bạn Chưa Biết Về Reactjs.\n",
      "1 165 0.93411946 Sắc màu văn hóa các dân tộc vùng Tây Bắc\n",
      "2 110 0.8710784 “SỐNG XANH” CÓ KHÓ NHƯ NHIỀU NGƯỜI NGHĨ?\n",
      "3 163 0.85975945 Ý nghĩa tà áo dài truyền thống Việt Nam – giá trị qua các thời kỳ lịch sử\n",
      "4 162 0.8106241 Áo dài - nét đẹp đặc sắc của văn hoá Việt Nam\n",
      "5 161 0.80356514 Lịch sử phát triển áo dài Việt Nam qua các thời kỳ\n",
      "6 164 0.7463762 Văn hóa Tây Bắc - những mạch nguồn chảy mãi\n",
      "7 29 0.7132419 Kinh nghiệm du lịch Hạ Long tự túc cho người lần đầu mới đi\n",
      "8 107 0.66847634 Phong tục truyền thống trong ngày Tết cổ truyền của người Việt\n",
      "9 109 0.66062427 Chuẩn bị đi du lịch? Cẩm nang từ A-Z giúp bạn có kỳ nghỉ TRỌN VẸN\n",
      "10 30 0.5828639 Muốn khởi nghiệp? Hãy dành 5 phút đọc bài viết này.\n",
      "11 108 0.477423 Giữ gìn, phát huy nét đẹp văn hóa Tết cổ truyền của Dân tộc Việt Nam\n",
      "12 112 0.4298607 Kinh nghiệm chuẩn bị cho chuyến du lịch hoàn hảo\n",
      "13 159 0.42216477 Cơ cấu tổ chức mới của Viện Hàn lâm Khoa học xã hội Việt Nam\n",
      "14 151 0.40173984 Thực trạng giao thông Hà Nội và những vấn đề bất cập cần lời giải\n",
      "15 158 0.39962503 10 sự kiện khoa học công nghệ nổi bật nhất Việt Nam trong năm 2022\n",
      "16 152 0.3965289 Những điểm nhấn của nền tảng trí tuệ nhân tạo VinBase\n",
      "17 105 0.38201392 Ý nghĩa số Chủ đạo 9 trong Thần số học\n",
      "18 150 0.352013 NHỮNG ĐIỀU THÚ VỊ VỀ GIAO THÔNG Ở VIỆT NAM\n",
      "19 149 0.35141104 Cả nước xảy ra 5.703 vụ tai nạn giao thông nửa đầu năm 2022\n",
      "20 154 0.3288957 VinBigData ra mắt nền tảng trí tuệ nhân tạo đa nhận thức\n",
      "21 74 0.32722074 Thực Trạng Ô Nhiễm Môi Trường Ở Việt Nam Hiện Nay\n",
      "22 140 0.32202417 Cách mạng công nghiệp 4.0 - Cơ hội và thách thức của giai cấp công nhân Việt Nam hiện nay\n",
      "23 141 0.31698585 Máy lọc không khí nào tốt nhất hiện nay\n",
      "24 118 0.30149525 10 cách để cải thiện kỹ năng nói tiếng Anh nhanh nhất\n",
      "25 137 0.2958098 Học tự động hóa cần những gì\n",
      "26 77 0.29544836 Một số vấn đề về môi trường ở Việt Nam hiện nay- thực trạng và giải pháp\n",
      "27 142 0.29268768 9 xu hướng công nghệ trong Công nghiệp 4.0 và lợi ích kinh tế, tiềm năng kỹ thuật đối với doanh nghiệp\n",
      "28 78 0.28579932 Thực trạng môi trường hiện nay trên thế giới đang ở mức báo động\n",
      "29 80 0.27755716 LỢI ÍCH CỦA VIỆC ĐỌC SÁCH\n",
      "30 144 0.2700363 Thuê phòng trọ và 10 điều nhất định phải lưu ý!\n",
      "31 28 0.26427498 Chia sẻ kinh nghiệm du lịch bụi đơn giản nhưng rất cần thiết cho du khách\n",
      "32 114 0.25353622 10 ĐIỀU ĐƠN GIẢN CHO CUỘC SỐNG XANH\n",
      "33 73 0.2531932 Nhu cầu 'bắt đáy' bất động sản tăng cao\n",
      "34 53 0.24976002 Lịch sử những cuộc khủng hoảng kinh tế thế giới từ trước đến nay\n",
      "35 157 0.2473571 'VinFuture khích lệ tinh thần nhà khoa học Việt'\n",
      "36 173 0.24595918 5 yếu tố cần chú ý đối với thiết kế UX trong thực tế ảo (VR)\n",
      "37 153 0.24279584 Đẩy mạnh ứng dụng trí tuệ nhân tạo trong lĩnh vực hành chính công\n",
      "38 76 0.23802672 Những vấn đề môi trường cấp bách hiện nay: Thực trạng và giải pháp\n",
      "39 121 0.23769408 Ngủ 8 tiếng một ngày, liệu có được xem là ngủ đủ giấc?\n",
      "40 52 0.23536417 Kinh tế thế giới ra sao năm 2023?\n",
      "41 160 0.23444518 Chiếc áo dài – Nét đẹp văn hóa truyền thống của người phụ nữ Việt Nam\n",
      "42 75 0.22659206 THỰC TRẠNG Ô NHIỄM MÔI TRƯỜNG Ở VIỆT NAM VÀ CÁC GIẢI PHÁP KHẮC PHỤC.\n",
      "43 55 0.22282678 CHU KỲ KHỦNG HOẢNG KINH TẾ 10 NĂM: NGUY CƠ TỪ NỘI TẠI NỀN KINH TẾ\n",
      "44 79 0.21913087 Ô NHIỄM MÔI TRƯỜNG LÀ GÌ? THỰC TRẠNG, NGUYÊN NHÂN VÀ CÁCH KHẮC PHỤC\n",
      "45 54 0.21910998 Nguyên nhân nào đẩy kinh tế thế giới tới bờ vực suy thoái?\n",
      "46 111 0.21578813 Từ A đến Z kinh nghiệm đi du lịch theo tour cho đoàn đông người vui hết cỡ\n",
      "47 96 0.21482375 Ý nghĩa số Chủ đạo 8 trong Thần số học\n",
      "48 22 0.21098892 Cách thức mà Agile Marketing vận hành\n",
      "49 99 0.20974442 Ý nghĩa số Chủ đạo 3 trong Thần số học\n",
      "50 176 0.2010623 Hướng dẫn làm VR với Unity\n",
      "51 60 0.20052598 Duy trì lối sống lành mạnh nâng cao sức khỏe\n",
      "52 155 0.19937035 TRÍ TUỆ NHÂN TẠO (AI) LÀ GÌ? LỢI ÍCH, ỨNG DỤNG CỦA CÔNG NGHỆ AI TRONG SẢN XUẤT\n",
      "53 172 0.1860522 Thực tế ảo - Công cụ trải nghiệm shopping mới\n",
      "54 56 0.18563695 VIỆT NAM TRƯỚC KHÓ KHĂN, THÁCH THỨC CỦA KINH TẾ THẾ GIỚI\n",
      "55 3 0.1755945 Những câu hỏi lập trình khi pv (2): bài toán ATM\n",
      "56 175 0.17179288 Hướng dẫn làm game VR với Unity\n",
      "57 116 0.17142686 5 Thói quen \"sống xanh\" giúp bảo vệ môi trường\n",
      "58 57 0.16910063 TOP 5 các đồng tiền ảo nên đầu tư nhất vì độ HOT của chúng chưa bao giờ dừng\n",
      "59 170 0.1656098 Giới thiệu về ReactJS\n",
      "60 174 0.16227771 Hướng dẫn làm VR với Unity\n",
      "61 51 0.16019686 Thượng đỉnh G20&nbsp;bàn về khủng hoảng kinh tế toàn cầu\n",
      "62 117 0.15565962 Những cách học giúp cải thiện tiếng Anh nhanh chóng\n",
      "63 136 0.15558392 Top 10 máy lọc không khí chạy nhất năm 2021&nbsp;\n",
      "64 103 0.15400547 <b>Chia sẻ cách tiết kiệm tiền hiệu quả cho người trẻ</b>\n",
      "65 0 0.15349734 ĐỒ ÁN THIẾT KẾ WEBSITE BLOG SITE\n",
      "66 139 0.15241462 Máy lọc không khí hãng nào tốt? Những thương hiệu máy lọc không khí tốt, chất lượng\n",
      "67 18 0.15232614 Trí tuệ nhân tạo với Swift\n",
      "68 143 0.15057167 Giải đáp thắc mắc có nên mua máy lọc không khí để sử dụng tại nhà?\n",
      "69 169 0.14812437 ReactJS – Những điều bạn cần phải biết\n",
      "70 97 0.14542761 5 cách tiết kiệm tiền từ tiền lương cho cuộc sống thoải mái, sung túc\n",
      "71 126 0.14505821 Sống phải biết cho đi\n",
      "72 130 0.14054191 Cùng tìm hiểu về công nghệ AI và áp dụng trí tuệ nhân tạo trong công nghệ\n",
      "73 91 0.13852033 6 mẹo tiết kiệm 'thời gian vàng bạc' mỗi ngày\n",
      "74 104 0.13785027 Phong tục Tết cổ truyền Việt Nam\n",
      "75 19 0.13746615 Lợi ích và nguy cơ của trí tuệ nhân tạo (AI)\n",
      "76 72 0.13360971 Bất động sản Việt đang mất dần lợi thế cạnh tranh\n",
      "77 34 0.13265097 6 LOẠI HÌNH KHỞI NGHIỆP BẠN CẦN BIẾT\n",
      "78 35 0.13265094 Cách khởi nghiệp từ 2 bàn tay trắng bạn không nên bỏ qua\n",
      "79 33 0.13265087 6 LOẠI HÌNH KHỞI NGHIỆP BẠN CẦN BIẾT\n",
      "80 12 0.1297709 Material Design for Web Design\n",
      "81 44 0.12941867 CALO LÀ GÌ? BẢNG TÍNH CALORIES DÀNH CHO NGƯỜI GIẢM CÂN CẦN BIẾT\n",
      "82 95 0.12701255 Ý nghĩa số Chủ đạo 10 trong Thần số học\n",
      "83 58 0.12592709 Đầu tư tiền ảo là gì? Bắt đầu như thế nào cho người mới?\n",
      "84 168 0.12563293 NHỮNG ĐIỀU QUAN TRỌNG CỦA REACTJS BẠN CẦN BIẾT\n",
      "85 40 0.12318151 Bạn nên ăn bao nhiêu calo mỗi ngày để giảm cân?\n",
      "86 119 0.12024085 5 cách để tự cải thiện tiếng Anh tại nhà\n",
      "87 115 0.120015845 Những phương pháp giúp bạn cải thiện tiếng Anh hiệu quả\n",
      "88 125 0.119348824 Cách để Tận hưởng Cuộc sống\n",
      "89 106 0.11729051 Những phong tục trong ngày Tết cổ truyền\n",
      "90 134 0.117067724 Trí tuệ nhân tạo là gì? Có những loại trí tuệ nhân tạo nào?\n",
      "91 85 0.11584012 11 Cách Ngủ Nhanh Và Sâu Cho Người Mất Ngủ, Khó Ngủ\n",
      "92 132 0.11565452 7 loại trí tuệ nhân tạo mà bạn cần phải biết\n",
      "93 21 0.1129353 Agile Marketing khái niệm và tại sao nên áp dụng Agile trong Marketing\n",
      "94 90 0.11248435 9 Cách Trị Mất Ngủ Tại Nhà Hiệu Quả – Ngủ Nhanh, Ngủ Sâu Giấc\n",
      "95 101 0.11175573 Bỏ túi 8 cách tiết kiệm tiền hiệu quả cho gia đình\n",
      "96 146 0.11155264 Sinh viên ở trọ cần lưu ý 3 điều sau trong hợp đồng thuê nhà\n",
      "97 148 0.11087048 THỰC TRẠNG GIAO THÔNG Ở VIỆT NAM\n",
      "98 59 0.107245296 Khủng hoảng tiền số: Tái ông thất mã?\n",
      "99 81 0.10516121 Sách là gì? Lợi ích của việc đọc sách?\n"
     ]
    }
   ],
   "source": [
    "print(main_post['title'])\n",
    "i=0\n",
    "for idrs, distance in sims:\n",
    "    article = col.find_one({\"idrs\": idrs})\n",
    "    print(i, idrs, distance, article['title'])\n",
    "    i+=1\n",
    "    if(i==100): break\n",
    "    "
   ]
  },
  {
   "cell_type": "code",
   "execution_count": 61,
   "id": "7d456ce0",
   "metadata": {},
   "outputs": [
    {
     "name": "stdout",
     "output_type": "stream",
     "text": [
      "165\n"
     ]
    },
    {
     "data": {
      "text/plain": [
       "[166, 110, 163, 162, 161, 164, 29, 107, 109]"
      ]
     },
     "execution_count": 61,
     "metadata": {},
     "output_type": "execute_result"
    }
   ],
   "source": [
    "arr = [tup[0] for tup in sims[:10]]\n",
    "if 'idrs' in main_post: \n",
    "    if main_post['idrs'] in arr: arr.remove(main_post['idrs'])\n",
    "print(main_post['idrs'])\n",
    "list(arr)"
   ]
  }
 ],
 "metadata": {
  "kernelspec": {
   "display_name": "Python 3 (ipykernel)",
   "language": "python",
   "name": "python3"
  },
  "language_info": {
   "codemirror_mode": {
    "name": "ipython",
    "version": 3
   },
   "file_extension": ".py",
   "mimetype": "text/x-python",
   "name": "python",
   "nbconvert_exporter": "python",
   "pygments_lexer": "ipython3",
   "version": "3.9.6"
  }
 },
 "nbformat": 4,
 "nbformat_minor": 5
}
