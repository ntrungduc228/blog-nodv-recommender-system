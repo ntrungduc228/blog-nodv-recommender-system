{
 "cells": [
  {
   "cell_type": "code",
   "execution_count": 629,
   "id": "65454030",
   "metadata": {},
   "outputs": [],
   "source": [
    "import sys\n",
    "import requests\n",
    "from time import sleep\n",
    "\n",
    "from tqdm import tqdm\n",
    "import pymongo\n",
    "from pymongo import MongoClient\n",
    "from bson.objectid import ObjectId\n",
    "import gensim"
   ]
  },
  {
   "cell_type": "code",
   "execution_count": 630,
   "id": "88539d9c",
   "metadata": {},
   "outputs": [],
   "source": [
    "sys.path.append('../')"
   ]
  },
  {
   "cell_type": "code",
   "execution_count": 631,
   "id": "715804a8",
   "metadata": {},
   "outputs": [],
   "source": [
    "from src import settings"
   ]
  },
  {
   "cell_type": "code",
   "execution_count": 632,
   "id": "f85d4ea5",
   "metadata": {},
   "outputs": [],
   "source": [
    "client = MongoClient(settings.MONGODB_SETTINGS['host'])\n",
    "db = client[settings.MONGODB_SETTINGS['db']]\n",
    "col = db[settings.MONGODB_SETTINGS['collection']]"
   ]
  },
  {
   "cell_type": "code",
   "execution_count": 633,
   "id": "d0eb7bbd",
   "metadata": {},
   "outputs": [],
   "source": [
    "from src.models import make_texts_corpus\n",
    "from src.utils import editorJs_data_to_text\n",
    "import json\n",
    "from gensim.matutils import cossim\n",
    "from gensim import similarities"
   ]
  },
  {
   "cell_type": "code",
   "execution_count": 634,
   "id": "06655038",
   "metadata": {},
   "outputs": [
    {
     "name": "stderr",
     "output_type": "stream",
     "text": [
      "INFO : loading Dictionary object from ../models/id2word.dictionary\n",
      "INFO : Dictionary lifecycle event {'fname': '../models/id2word.dictionary', 'datetime': '2022-12-29T04:02:50.212335', 'gensim': '4.2.0', 'python': '3.9.6 (tags/v3.9.6:db3ff76, Jun 28 2021, 15:26:21) [MSC v.1929 64 bit (AMD64)]', 'platform': 'Windows-10-10.0.19045-SP0', 'event': 'loaded'}\n",
      "INFO : loaded corpus index from ../models/corpus.mm.index\n",
      "INFO : initializing cython corpus reader from ../models/corpus.mm\n",
      "INFO : accepted corpus with 177 documents, 4087 features, 36185 non-zero entries\n",
      "INFO : loading LdaModel object from ../models/LDA.model\n",
      "INFO : loading expElogbeta from ../models/LDA.model.expElogbeta.npy with mmap=None\n",
      "INFO : setting ignored attribute state to None\n",
      "INFO : setting ignored attribute dispatcher to None\n",
      "INFO : setting ignored attribute id2word to None\n",
      "INFO : LdaModel lifecycle event {'fname': '../models/LDA.model', 'datetime': '2022-12-29T04:02:50.268332', 'gensim': '4.2.0', 'python': '3.9.6 (tags/v3.9.6:db3ff76, Jun 28 2021, 15:26:21) [MSC v.1929 64 bit (AMD64)]', 'platform': 'Windows-10-10.0.19045-SP0', 'event': 'loaded'}\n",
      "INFO : loading LdaState object from ../models/LDA.model.state\n",
      "INFO : LdaState lifecycle event {'fname': '../models/LDA.model.state', 'datetime': '2022-12-29T04:02:50.291337', 'gensim': '4.2.0', 'python': '3.9.6 (tags/v3.9.6:db3ff76, Jun 28 2021, 15:26:21) [MSC v.1929 64 bit (AMD64)]', 'platform': 'Windows-10-10.0.19045-SP0', 'event': 'loaded'}\n"
     ]
    }
   ],
   "source": [
    "id2word = gensim.corpora.Dictionary.load(settings.PATH_DICTIONARY)\n",
    "corpus = gensim.corpora.MmCorpus('../models/corpus.mm')\n",
    "lda_model = gensim.models.ldamodel.LdaModel.load('../models/LDA.model')"
   ]
  },
  {
   "cell_type": "code",
   "execution_count": 635,
   "id": "fc8e5e5b",
   "metadata": {},
   "outputs": [
    {
     "name": "stderr",
     "output_type": "stream",
     "text": [
      "WARNING : scanning corpus to determine the number of features (consider setting `num_features` explicitly)\n",
      "INFO : creating matrix with 177 documents and 57 features\n"
     ]
    }
   ],
   "source": [
    "index = similarities.MatrixSimilarity(lda_model[corpus])"
   ]
  },
  {
   "cell_type": "code",
   "execution_count": 636,
   "id": "96f309a2",
   "metadata": {},
   "outputs": [
    {
     "name": "stdout",
     "output_type": "stream",
     "text": [
      "ĐỒ ÁN THIẾT KẾ WEBSITE BLOG SITE 0\n",
      "setState trong React 1\n",
      "Regular Expression trong Javascript 2\n",
      "Các bài tập java cơ bản 3\n",
      "Những câu hỏi lập trình khi pv (2): bài toán ATM 4\n",
      "Ví dụ sắp xếp nổi bọt với Java 5\n",
      "Chương trình lọc thư rác bằng Java, code ví dụ 6\n",
      "Đọc ghi file Excel trong Java sử dụng Apache POI 7\n",
      "THREAD AND THREAD POOLS IN JAVA 8\n",
      "Sử dụng CountDownLatch trong Java 9\n",
      "Multithreading: Java Synchronized Blocks 10\n",
      "Understand synchronized and improve lock performance in Java 11\n",
      "Front-End Web Developers 12\n",
      "Material Design for Web Design 13\n",
      "Những kỹ năng cần phải có của một Web Designer 14\n",
      "Rest API - cách Frontend và Backend nói chuyện với nhau qua ví dụ cụ thể 15\n",
      "Điều cần chú ý để xây dựng RESTful API 16\n",
      "Dựng một API RESTful đơn giản sử dụng Express và MongoDB 17\n",
      "xây dựng API với Napa 18\n",
      "Trí tuệ nhân tạo với Swift 19\n",
      "Lợi ích và nguy cơ của trí tuệ nhân tạo (AI) 20\n",
      "Liệu chúng ta có thể xây dựng trí tuệ nhân tạo mà không mất kiểm soát đối với nó? 21\n",
      "Agile Marketing khái niệm và tại sao nên áp dụng Agile trong Marketing 22\n",
      "Cách thức mà Agile Marketing vận hành 23\n",
      "Agile Software Development 24\n",
      "Waterfall vs Agile vs Scrum - Part 1: Agile là gì? 25\n",
      "Cấu trúc của User stories trong Agile Marketing 26\n",
      "Kinh nghiệm chuẩn bị cho chuyến du lịch hoàn hảo 27\n",
      "Bỏ túi kinh nghiệm du lịch Việt Nam tự túc cho lần đầu khám phá 28\n",
      "Chia sẻ kinh nghiệm du lịch bụi đơn giản nhưng rất cần thiết cho du khách 29\n",
      "Kinh nghiệm du lịch Hạ Long tự túc cho người lần đầu mới đi 30\n",
      "Muốn khởi nghiệp? Hãy dành 5 phút đọc bài viết này. 31\n",
      "Muốn khởi nghiệp? Hãy dành 5 phút đọc bài viết này. 32\n",
      "6 LOẠI HÌNH KHỞI NGHIỆP BẠN CẦN BIẾT 33\n",
      "6 LOẠI HÌNH KHỞI NGHIỆP BẠN CẦN BIẾT 34\n",
      "6 LOẠI HÌNH KHỞI NGHIỆP BẠN CẦN BIẾT 35\n",
      "Cách khởi nghiệp từ 2 bàn tay trắng bạn không nên bỏ qua 36\n",
      "Những cách khởi nghiệp hay và xu hướng khởi nghiệp bạn nên biết 37\n",
      "Những cách khởi nghiệp hay và xu hướng khởi nghiệp bạn nên biết 38\n",
      "Calories là gì? Tìm hiểu calo trong việc tăng &amp; giảm cân hiệu quả. 39\n",
      "Top 15 ngôn ngữ lập trình phổ biến nhất thế giới, bạn đã biết hết chưa? 40\n",
      "Bạn nên ăn bao nhiêu calo mỗi ngày để giảm cân? 41\n",
      "Ngôn ngữ lập trình là gì - Top 9 ngôn ngữ lập trình phổ biến 42\n",
      "1 ngày cần bao nhiêu calo để tăng cân? Cách tính lượng calo nạp vào cơ thể 43\n",
      "5 ngôn ngữ lập trình phổ biến nhất Việt Nam năm 2020 44\n",
      "CALO LÀ GÌ? BẢNG TÍNH CALORIES DÀNH CHO NGƯỜI GIẢM CÂN CẦN BIẾT 45\n",
      "Cách tính calo giảm cân chuẩn như chuyên gia 46\n",
      "Skincare là gì? Quy trình và lợi ích của skincare như thế nào? 47\n",
      "Hướng dẫn quy trình chăm sóc da mặt khoa học cho làn da khỏe đẹp 48\n",
      "Thế Nào Là Chăm Sóc Da Khoa Học? Bạn Thực Sự Đã Hiểu Đúng? 49\n",
      "Hướng dẫn thứ tự skincare \"chuẩn không cần chỉnh\" 50\n",
      "Khủng hoảng kinh tế là gì? Nguyên nhân, bản chất khủng hoảng kinh tế 51\n",
      "Thượng đỉnh G20&nbsp;bàn về khủng hoảng kinh tế toàn cầu 52\n",
      "Kinh tế thế giới ra sao năm 2023? 53\n",
      "Lịch sử những cuộc khủng hoảng kinh tế thế giới từ trước đến nay 54\n",
      "Nguyên nhân nào đẩy kinh tế thế giới tới bờ vực suy thoái? 55\n",
      "CHU KỲ KHỦNG HOẢNG KINH TẾ 10 NĂM: NGUY CƠ TỪ NỘI TẠI NỀN KINH TẾ 56\n",
      "VIỆT NAM TRƯỚC KHÓ KHĂN, THÁCH THỨC CỦA KINH TẾ THẾ GIỚI 57\n",
      "TOP 5 các đồng tiền ảo nên đầu tư nhất vì độ HOT của chúng chưa bao giờ dừng 58\n",
      "Đầu tư tiền ảo là gì? Bắt đầu như thế nào cho người mới? 59\n",
      "Khủng hoảng tiền số: Tái ông thất mã? 60\n",
      "Duy trì lối sống lành mạnh nâng cao sức khỏe 61\n",
      "Những lợi ích bất ngờ khi bạn duy trì lối sống lành mạnh 62\n",
      "Bắt nhịp lối sống lành mạnh&nbsp;với 4 bước siêu đơn giản 63\n",
      "Lối sống lành mạnh có thể làm giảm nguy cơ sa sút trí tuệ và kéo dài tuổi thọ 64\n",
      "10 cách duy trì lối sống lành mạnh ai cũng có thể thực hiện 65\n",
      "Chế độ ăn uống lành mạnh là gì và làm cách nào để bắt đầu? 66\n",
      "8 cách ăn uống lành mạnh và giúp bạn có cuộc sống khỏe mạnh hơn 67\n",
      "5 lợi ích của việc ăn uống lành mạnh 68\n",
      "5 bí quyết cực đơn giản để có chế độ ăn uống lành mạnh hơn 69\n",
      "11 chế độ ăn uống lành mạnh nhất năm 2020 70\n",
      "10 lời khuyên đơn giản làm cho chế độ ăn uống của bạn lành mạnh hơn 71\n",
      "Khi nào bất động sản đảo chiều? 72\n",
      "Bất động sản Việt đang mất dần lợi thế cạnh tranh 73\n",
      "Nhu cầu 'bắt đáy' bất động sản tăng cao 74\n",
      "Thực Trạng Ô Nhiễm Môi Trường Ở Việt Nam Hiện Nay 75\n",
      "THỰC TRẠNG Ô NHIỄM MÔI TRƯỜNG Ở VIỆT NAM VÀ CÁC GIẢI PHÁP KHẮC PHỤC. 76\n",
      "Những vấn đề môi trường cấp bách hiện nay: Thực trạng và giải pháp 77\n",
      "Một số vấn đề về môi trường ở Việt Nam hiện nay- thực trạng và giải pháp 78\n",
      "Thực trạng môi trường hiện nay trên thế giới đang ở mức báo động 79\n",
      "Ô NHIỄM MÔI TRƯỜNG LÀ GÌ? THỰC TRẠNG, NGUYÊN NHÂN VÀ CÁCH KHẮC PHỤC 80\n",
      "LỢI ÍCH CỦA VIỆC ĐỌC SÁCH 81\n",
      "Sách là gì? Lợi ích của việc đọc sách? 82\n",
      "15 lợi ích của việc đọc sách mỗi ngày giúp bạn \"thành công\" 83\n",
      "8 lợi ích không ngờ của việc đọc sách mỗi ngày 84\n",
      "Các phương pháp chữa bệnh mất ngủ 85\n",
      "11 Cách Ngủ Nhanh Và Sâu Cho Người Mất Ngủ, Khó Ngủ 86\n",
      "LỢI ÍCH TO LỚN CỦA VIỆC ĐỌC SÁCH BẰNG TIẾNG ANH MÀ KHÔNG THỂ BỎ QUA 87\n",
      "10 cách tiết kiệm thời gian giúp bạn tăng chất lượng sống 88\n",
      "15 CÁCH TRỊ MẤT NGỦ KHÔNG DÙNG THUỐC HIỆU QUẢ TẠI NHÀ 89\n",
      "16 Cách tiết kiệm thời gian và công sức cho bản thân 90\n",
      "9 Cách Trị Mất Ngủ Tại Nhà Hiệu Quả – Ngủ Nhanh, Ngủ Sâu Giấc 91\n",
      "6 mẹo tiết kiệm 'thời gian vàng bạc' mỗi ngày 92\n",
      "7 Cách tiết kiệm thời gian hiệu quả bất ngờ, lâu dài 93\n",
      "Cách chữa mất ngủ không dùng thuốc ít người biết 94\n",
      "Thần số học - khoa học khám phá bản thân thông qua những con số 95\n",
      "Ý nghĩa số Chủ đạo 10 trong Thần số học 96\n",
      "Ý nghĩa số Chủ đạo 8 trong Thần số học 97\n",
      "5 cách tiết kiệm tiền từ tiền lương cho cuộc sống thoải mái, sung túc 98\n",
      "Ý nghĩa Số chủ đạo 2 trong Thần số học 99\n",
      "Ý nghĩa số Chủ đạo 3 trong Thần số học 100\n",
      "20+ Học cách tiết kiệm tiền và quản lý chi tiêu tốt nhất 101\n",
      "Bỏ túi 8 cách tiết kiệm tiền hiệu quả cho gia đình 102\n",
      "Cách tiết kiệm tiền theo tuần hiệu quả cho người thu nhập dưới 10 triệu 103\n",
      "<b>Chia sẻ cách tiết kiệm tiền hiệu quả cho người trẻ</b> 104\n",
      "Phong tục Tết cổ truyền Việt Nam 105\n",
      "Ý nghĩa số Chủ đạo 9 trong Thần số học 106\n",
      "Những phong tục trong ngày Tết cổ truyền 107\n",
      "Phong tục truyền thống trong ngày Tết cổ truyền của người Việt 108\n",
      "Giữ gìn, phát huy nét đẹp văn hóa Tết cổ truyền của Dân tộc Việt Nam 109\n",
      "Chuẩn bị đi du lịch? Cẩm nang từ A-Z giúp bạn có kỳ nghỉ TRỌN VẸN 110\n",
      "“SỐNG XANH” CÓ KHÓ NHƯ NHIỀU NGƯỜI NGHĨ? 111\n",
      "Từ A đến Z kinh nghiệm đi du lịch theo tour cho đoàn đông người vui hết cỡ 112\n",
      "Kinh nghiệm chuẩn bị cho chuyến du lịch hoàn hảo 113\n",
      "Hành trình sống xanh&nbsp;bắt đầu từ đâu? 114\n",
      "10 ĐIỀU ĐƠN GIẢN CHO CUỘC SỐNG XANH 115\n",
      "Những phương pháp giúp bạn cải thiện tiếng Anh hiệu quả 116\n",
      "5 Thói quen \"sống xanh\" giúp bảo vệ môi trường 117\n",
      "Những cách học giúp cải thiện tiếng Anh nhanh chóng 118\n",
      "10 cách để cải thiện kỹ năng nói tiếng Anh nhanh nhất 119\n",
      "5 cách để tự cải thiện tiếng Anh tại nhà 120\n",
      "Sống Xanh là gì? 7 cách để sống xanh, sống đẹp 121\n",
      "Ngủ 8 tiếng một ngày, liệu có được xem là ngủ đủ giấc? 122\n",
      "Ngủ lúc 1h khuya và thức lúc 9h sáng có gọi là ngủ đủ 8 tiếng không? 123\n",
      "SỰ THẬT VỀ GIẤC NGỦ – CÓ NHẤT THIẾT PHẢI NGỦ SỚM VÀ ĐỦ 8 GIỜ MỖI NGÀY? 124\n",
      "9 cách tận hưởng cuộc sống theo cách thực sự ý nghĩa 125\n",
      "Cách để Tận hưởng Cuộc sống 126\n",
      "Sống phải biết cho đi 127\n",
      "8 cách cải thiện chất lượng giấc ngủ cho tuổi già 128\n",
      "10 bí quyết vàng&nbsp;để có giấc ngủ sâu 129\n",
      "Công nghệ AI của hiện tại và tương lai 130\n",
      "Cùng tìm hiểu về công nghệ AI và áp dụng trí tuệ nhân tạo trong công nghệ 131\n",
      "Tìm hiểu công nghệ AI là gì? Cách phân loại công nghệ AI 132\n",
      "7 loại trí tuệ nhân tạo mà bạn cần phải biết 133\n",
      "Các loại trí tuệ nhân tạo được sử dụng phổ biến hiện nay 134\n",
      "Trí tuệ nhân tạo là gì? Có những loại trí tuệ nhân tạo nào? 135\n",
      "Tự động hóa là gì? Ứng dụng tự động hóa trong sản xuất công nghiệp 136\n",
      "Top 10 máy lọc không khí chạy nhất năm 2021&nbsp; 137\n",
      "Học tự động hóa cần những gì 138\n",
      "Công nghiệp 4.0 là gì—Industrial Internet of Things (IIoT)? 139\n",
      "Máy lọc không khí hãng nào tốt? Những thương hiệu máy lọc không khí tốt, chất lượng 140\n",
      "Cách mạng công nghiệp 4.0 - Cơ hội và thách thức của giai cấp công nhân Việt Nam hiện nay 141\n",
      "Máy lọc không khí nào tốt nhất hiện nay 142\n",
      "9 xu hướng công nghệ trong Công nghiệp 4.0 và lợi ích kinh tế, tiềm năng kỹ thuật đối với doanh nghiệp 143\n",
      "Giải đáp thắc mắc có nên mua máy lọc không khí để sử dụng tại nhà? 144\n",
      "Thuê phòng trọ và 10 điều nhất định phải lưu ý! 145\n",
      "“Nằm lòng” 7 điều này sinh viên đi thuê nhà trọ không lo bị hớ 146\n",
      "Sinh viên ở trọ cần lưu ý 3 điều sau trong hợp đồng thuê nhà 147\n",
      "9 kinh nghiệm tìm thuê nhà trọ bạn nhất định phải lưu ý 148\n",
      "THỰC TRẠNG GIAO THÔNG Ở VIỆT NAM 149\n",
      "Cả nước xảy ra 5.703 vụ tai nạn giao thông nửa đầu năm 2022 150\n",
      "NHỮNG ĐIỀU THÚ VỊ VỀ GIAO THÔNG Ở VIỆT NAM 151\n",
      "Thực trạng giao thông Hà Nội và những vấn đề bất cập cần lời giải 152\n",
      "Những điểm nhấn của nền tảng trí tuệ nhân tạo VinBase 153\n",
      "Đẩy mạnh ứng dụng trí tuệ nhân tạo trong lĩnh vực hành chính công 154\n",
      "VinBigData ra mắt nền tảng trí tuệ nhân tạo đa nhận thức 155\n",
      "TRÍ TUỆ NHÂN TẠO (AI) LÀ GÌ? LỢI ÍCH, ỨNG DỤNG CỦA CÔNG NGHỆ AI TRONG SẢN XUẤT 156\n",
      "Nhiệm vụ và cơ cấu tổ chức mới của Viện Hàn lâm Khoa học xã hội Việt Nam 157\n",
      "'VinFuture khích lệ tinh thần nhà khoa học Việt' 158\n",
      "10 sự kiện khoa học công nghệ nổi bật nhất Việt Nam trong năm 2022 159\n",
      "Cơ cấu tổ chức mới của Viện Hàn lâm Khoa học xã hội Việt Nam 160\n",
      "Chiếc áo dài – Nét đẹp văn hóa truyền thống của người phụ nữ Việt Nam 161\n",
      "Lịch sử phát triển áo dài Việt Nam qua các thời kỳ 162\n",
      "Áo dài - nét đẹp đặc sắc của văn hoá Việt Nam 163\n",
      "Ý nghĩa tà áo dài truyền thống Việt Nam – giá trị qua các thời kỳ lịch sử 164\n",
      "Văn hóa Tây Bắc - những mạch nguồn chảy mãi 165\n",
      "Sắc màu văn hóa các dân tộc vùng Tây Bắc 166\n",
      "Reactjs Là Gì? Những Điều Bạn Chưa Biết Về Reactjs. 167\n",
      "8 quyết định quan trọng về React Component 168\n",
      "NHỮNG ĐIỀU QUAN TRỌNG CỦA REACTJS BẠN CẦN BIẾT 169\n",
      "ReactJS – Những điều bạn cần phải biết 170\n",
      "Giới thiệu về ReactJS 171\n",
      "Thực tế ảo VR và thực tế ảo tăng cường AR 172\n",
      "Thực tế ảo - Công cụ trải nghiệm shopping mới 173\n",
      "5 yếu tố cần chú ý đối với thiết kế UX trong thực tế ảo (VR) 174\n",
      "Hướng dẫn làm VR với Unity 175\n",
      "Hướng dẫn làm game VR với Unity&nbsp; 176\n"
     ]
    }
   ],
   "source": [
    "for post in col.find():\n",
    "    print(post['title'], post['idrs'] if 'idrs' in post else False)"
   ]
  },
  {
   "cell_type": "code",
   "execution_count": 662,
   "id": "9ad26c46",
   "metadata": {},
   "outputs": [
    {
     "data": {
      "text/plain": [
       "'Văn hóa Tây Bắc - những mạch nguồn chảy mãi'"
      ]
     },
     "execution_count": 662,
     "metadata": {},
     "output_type": "execute_result"
    }
   ],
   "source": [
    "# main_post = col.find_one({\"_id\": ObjectId(\"6388c04363cdee37de74f09c\")})\n",
    "main_post = col.find_one({\"idrs\": 165})\n",
    "main_post['title']"
   ]
  },
  {
   "cell_type": "code",
   "execution_count": 663,
   "id": "0bed9b6a",
   "metadata": {},
   "outputs": [],
   "source": [
    "content = editorJs_data_to_text(json.loads(main_post[\"content\"]))\n",
    "text_corpus = make_texts_corpus([content])\n",
    "bow = id2word.doc2bow(next(text_corpus))"
   ]
  },
  {
   "cell_type": "code",
   "execution_count": 664,
   "id": "2bd06966",
   "metadata": {},
   "outputs": [],
   "source": [
    "vector_doc = lda_model[bow]"
   ]
  },
  {
   "cell_type": "code",
   "execution_count": 665,
   "id": "33c2c8c6",
   "metadata": {},
   "outputs": [],
   "source": [
    "sims = index[vector_doc]"
   ]
  },
  {
   "cell_type": "code",
   "execution_count": 666,
   "id": "4514ed96",
   "metadata": {},
   "outputs": [],
   "source": [
    "sims = sorted(enumerate(sims), key=lambda item: -item[1])\n",
    "#for doc_position, doc_score in sims:\n",
    "#    print(doc_score, doc_position)"
   ]
  },
  {
   "cell_type": "code",
   "execution_count": 667,
   "id": "ae907ec2",
   "metadata": {
    "scrolled": true
   },
   "outputs": [
    {
     "name": "stdout",
     "output_type": "stream",
     "text": [
      "Văn hóa Tây Bắc - những mạch nguồn chảy mãi\n",
      "0 165 1.0 Văn hóa Tây Bắc - những mạch nguồn chảy mãi\n",
      "1 166 0.93412447 Sắc màu văn hóa các dân tộc vùng Tây Bắc\n",
      "2 110 0.8781304 Chuẩn bị đi du lịch? Cẩm nang từ A-Z giúp bạn có kỳ nghỉ TRỌN VẸN\n",
      "3 163 0.8479252 Áo dài - nét đẹp đặc sắc của văn hoá Việt Nam\n",
      "4 161 0.80711895 Chiếc áo dài – Nét đẹp văn hóa truyền thống của người phụ nữ Việt Nam\n",
      "5 162 0.79013026 Lịch sử phát triển áo dài Việt Nam qua các thời kỳ\n",
      "6 107 0.7535104 Những phong tục trong ngày Tết cổ truyền\n",
      "7 29 0.7342495 Chia sẻ kinh nghiệm du lịch bụi đơn giản nhưng rất cần thiết cho du khách\n",
      "8 164 0.7148565 Ý nghĩa tà áo dài truyền thống Việt Nam – giá trị qua các thời kỳ lịch sử\n",
      "9 109 0.7083704 Giữ gìn, phát huy nét đẹp văn hóa Tết cổ truyền của Dân tộc Việt Nam\n"
     ]
    }
   ],
   "source": [
    "print(main_post['title'])\n",
    "i=0\n",
    "for idrs, distance in sims:\n",
    "    article = col.find_one({\"idrs\": idrs})\n",
    "    print(i, idrs, distance, article['title'])\n",
    "    i+=1\n",
    "    if(i==10): break\n",
    "    "
   ]
  },
  {
   "cell_type": "code",
   "execution_count": 668,
   "id": "7d456ce0",
   "metadata": {},
   "outputs": [
    {
     "name": "stdout",
     "output_type": "stream",
     "text": [
      "165\n"
     ]
    },
    {
     "data": {
      "text/plain": [
       "[166, 110, 163, 161, 162, 107, 29, 164, 109]"
      ]
     },
     "execution_count": 668,
     "metadata": {},
     "output_type": "execute_result"
    }
   ],
   "source": [
    "arr = [tup[0] for tup in sims[:10]]\n",
    "if 'idrs' in main_post: \n",
    "    if main_post['idrs'] in arr: arr.remove(main_post['idrs'])\n",
    "print(main_post['idrs'])\n",
    "list(arr)"
   ]
  }
 ],
 "metadata": {
  "kernelspec": {
   "display_name": "Python 3 (ipykernel)",
   "language": "python",
   "name": "python3"
  },
  "language_info": {
   "codemirror_mode": {
    "name": "ipython",
    "version": 3
   },
   "file_extension": ".py",
   "mimetype": "text/x-python",
   "name": "python",
   "nbconvert_exporter": "python",
   "pygments_lexer": "ipython3",
   "version": "3.9.6"
  }
 },
 "nbformat": 4,
 "nbformat_minor": 5
}
