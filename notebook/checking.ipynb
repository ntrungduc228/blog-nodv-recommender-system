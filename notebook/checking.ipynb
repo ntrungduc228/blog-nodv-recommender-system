{
 "cells": [
  {
   "cell_type": "code",
   "execution_count": 18,
   "id": "96a9a253",
   "metadata": {},
   "outputs": [],
   "source": [
    "import requests\n",
    "from time import sleep\n",
    "\n",
    "from tqdm import tqdm\n",
    "import pymongo\n",
    "from pymongo import MongoClient\n",
    "import gensim"
   ]
  },
  {
   "cell_type": "code",
   "execution_count": 13,
   "id": "865dfcbe",
   "metadata": {},
   "outputs": [],
   "source": [
    "import sys\n",
    "sys.path.append('../')\n",
    "from src.settings import MONGODB_SETTINGS,PATH_DOC_TOPIC_DIST\n",
    "client = MongoClient(MONGODB_SETTINGS['host'])\n",
    "db = client[MONGODB_SETTINGS['db']]\n",
    "col = db[MONGODB_SETTINGS['collection']]"
   ]
  },
  {
   "cell_type": "code",
   "execution_count": 4,
   "id": "628a4f4a",
   "metadata": {},
   "outputs": [],
   "source": [
    "posts = col.find()"
   ]
  },
  {
   "cell_type": "code",
   "execution_count": 9,
   "id": "bd487a64",
   "metadata": {},
   "outputs": [
    {
     "data": {
      "text/plain": [
       "150"
      ]
     },
     "execution_count": 9,
     "metadata": {},
     "output_type": "execute_result"
    }
   ],
   "source": [
    "col.count_documents({})"
   ]
  },
  {
   "cell_type": "code",
   "execution_count": 14,
   "id": "be224fd8",
   "metadata": {},
   "outputs": [],
   "source": [
    "import joblib\n",
    "doc_topic_dist = joblib.load(\n",
    "        PATH_DOC_TOPIC_DIST\n",
    "    )"
   ]
  },
  {
   "cell_type": "code",
   "execution_count": 16,
   "id": "a55054d9",
   "metadata": {},
   "outputs": [
    {
     "data": {
      "text/plain": [
       "(139, 50)"
      ]
     },
     "execution_count": 16,
     "metadata": {},
     "output_type": "execute_result"
    }
   ],
   "source": [
    " doc_topic_dist.shape"
   ]
  },
  {
   "cell_type": "code",
   "execution_count": 20,
   "id": "c7038d2b",
   "metadata": {},
   "outputs": [],
   "source": [
    "corpus = gensim.corpora.MmCorpus('../models/corpus.mm')"
   ]
  },
  {
   "cell_type": "code",
   "execution_count": 28,
   "id": "d842f9f4",
   "metadata": {},
   "outputs": [
    {
     "name": "stdout",
     "output_type": "stream",
     "text": [
      "139\n"
     ]
    }
   ],
   "source": [
    "a = 0\n",
    "for i in enumerate(corpus):\n",
    "    a+=1\n",
    "print(a)"
   ]
  },
  {
   "cell_type": "code",
   "execution_count": 30,
   "id": "e2a5fa15",
   "metadata": {},
   "outputs": [],
   "source": [
    "from src.utils import editorJs_data_to_text\n",
    "import json"
   ]
  },
  {
   "cell_type": "code",
   "execution_count": 43,
   "id": "0887f357",
   "metadata": {},
   "outputs": [
    {
     "name": "stdout",
     "output_type": "stream",
     "text": [
      "150\n"
     ]
    },
    {
     "ename": "StopIteration",
     "evalue": "",
     "output_type": "error",
     "traceback": [
      "\u001b[1;31m---------------------------------------------------------------------------\u001b[0m",
      "\u001b[1;31mStopIteration\u001b[0m                             Traceback (most recent call last)",
      "Cell \u001b[1;32mIn[43], line 6\u001b[0m\n\u001b[0;32m      4\u001b[0m        a\u001b[38;5;241m+\u001b[39m\u001b[38;5;241m=\u001b[39m\u001b[38;5;241m1\u001b[39m\n\u001b[0;32m      5\u001b[0m \u001b[38;5;28mprint\u001b[39m(a)\n\u001b[1;32m----> 6\u001b[0m test_post \u001b[38;5;241m=\u001b[39m \u001b[38;5;28;43mnext\u001b[39;49m\u001b[43m(\u001b[49m\u001b[43mposts\u001b[49m\u001b[43m)\u001b[49m\n",
      "File \u001b[1;32mc:\\users\\anony\\appdata\\local\\programs\\python\\python39\\lib\\site-packages\\pymongo\\cursor.py:1251\u001b[0m, in \u001b[0;36mCursor.next\u001b[1;34m(self)\u001b[0m\n\u001b[0;32m   1249\u001b[0m     \u001b[38;5;28;01mreturn\u001b[39;00m \u001b[38;5;28mself\u001b[39m\u001b[38;5;241m.\u001b[39m__data\u001b[38;5;241m.\u001b[39mpopleft()\n\u001b[0;32m   1250\u001b[0m \u001b[38;5;28;01melse\u001b[39;00m:\n\u001b[1;32m-> 1251\u001b[0m     \u001b[38;5;28;01mraise\u001b[39;00m \u001b[38;5;167;01mStopIteration\u001b[39;00m\n",
      "\u001b[1;31mStopIteration\u001b[0m: "
     ]
    }
   ],
   "source": [
    "posts = col.find()\n",
    "a=0 \n",
    "for sentence in posts:\n",
    "       a+=1\n",
    "print(a)\n"
   ]
  },
  {
   "cell_type": "code",
   "execution_count": 49,
   "id": "f2e31797",
   "metadata": {},
   "outputs": [],
   "source": [
    "\n",
    "def make_sentences():\n",
    "    for post in col.find():\n",
    "        #print(++i)\n",
    "        yield post['pp_content'] "
   ]
  },
  {
   "cell_type": "code",
   "execution_count": 35,
   "id": "087cf032",
   "metadata": {},
   "outputs": [],
   "source": [
    "def make_texts_corpus(sentences):\n",
    "    for sentence in sentences:\n",
    "        yield simple_preprocess(sentence, deacc=True) # tách chữ cái của từng pp_content\n",
    "#         yield [word for word in sentence.split()]"
   ]
  },
  {
   "cell_type": "code",
   "execution_count": 36,
   "id": "9dc2b0f8",
   "metadata": {},
   "outputs": [],
   "source": [
    "import itertools\n",
    "\n",
    "import gensim\n",
    "from gensim.utils import simple_preprocess"
   ]
  },
  {
   "cell_type": "code",
   "execution_count": 50,
   "id": "1badfa2d",
   "metadata": {},
   "outputs": [],
   "source": [
    "i=0\n",
    "sentences = make_sentences()"
   ]
  },
  {
   "cell_type": "code",
   "execution_count": 53,
   "id": "b460c505",
   "metadata": {},
   "outputs": [
    {
     "name": "stdout",
     "output_type": "stream",
     "text": [
      "0\n"
     ]
    }
   ],
   "source": [
    "a=0 \n",
    "for sentence in sentences:\n",
    "       a+=1\n",
    "print(a)"
   ]
  },
  {
   "cell_type": "code",
   "execution_count": 54,
   "id": "004394a8",
   "metadata": {},
   "outputs": [
    {
     "name": "stderr",
     "output_type": "stream",
     "text": [
      "INFO : loading LdaModel object from ../models/LDA.model\n",
      "INFO : loading expElogbeta from ../models/LDA.model.expElogbeta.npy with mmap=None\n",
      "INFO : setting ignored attribute id2word to None\n",
      "INFO : setting ignored attribute dispatcher to None\n",
      "INFO : setting ignored attribute state to None\n",
      "INFO : LdaModel lifecycle event {'fname': '../models/LDA.model', 'datetime': '2022-12-28T13:31:15.170667', 'gensim': '4.2.0', 'python': '3.9.6 (tags/v3.9.6:db3ff76, Jun 28 2021, 15:26:21) [MSC v.1929 64 bit (AMD64)]', 'platform': 'Windows-10-10.0.19045-SP0', 'event': 'loaded'}\n",
      "INFO : loading LdaState object from ../models/LDA.model.state\n",
      "INFO : LdaState lifecycle event {'fname': '../models/LDA.model.state', 'datetime': '2022-12-28T13:31:15.211237', 'gensim': '4.2.0', 'python': '3.9.6 (tags/v3.9.6:db3ff76, Jun 28 2021, 15:26:21) [MSC v.1929 64 bit (AMD64)]', 'platform': 'Windows-10-10.0.19045-SP0', 'event': 'loaded'}\n"
     ]
    }
   ],
   "source": [
    "lda_model = gensim.models.ldamodel.LdaModel.load('../models/LDA.model')"
   ]
  },
  {
   "cell_type": "code",
   "execution_count": 55,
   "id": "e2b93586",
   "metadata": {},
   "outputs": [
    {
     "name": "stderr",
     "output_type": "stream",
     "text": [
      "INFO : topic #18 (0.010): 0.047*\"con_nguoi\" + 0.047*\"nhan_tao\" + 0.044*\"cong_nghe\" + 0.035*\"tri_tue\" + 0.019*\"thong_minh\" + 0.017*\"linh_vuc\" + 0.013*\"han_che\" + 0.013*\"may\" + 0.012*\"nghien_cuu\" + 0.011*\"khoa_hoc\"\n",
      "INFO : topic #33 (0.010): 0.121*\"sach\" + 0.111*\"san_pham\" + 0.092*\"mui\" + 0.054*\"ban\" + 0.053*\"min\" + 0.044*\"lop\" + 0.038*\"am\" + 0.037*\"che_đo\" + 0.033*\"so_huu\" + 0.033*\"loai_bo\"\n",
      "INFO : topic #11 (0.010): 0.037*\"thoi_quen\" + 0.034*\"suc_khoe\" + 0.033*\"mon\" + 0.028*\"an_uong\" + 0.027*\"co_the\" + 0.023*\"rau\" + 0.021*\"can_thiet\" + 0.020*\"tap_the_duc\" + 0.017*\"can_bang\" + 0.017*\"thay_vi\"\n",
      "INFO : topic #3 (0.010): 0.000*\"calo\" + 0.000*\"can\" + 0.000*\"da\" + 0.000*\"co_the\" + 0.000*\"thuc_pham\" + 0.000*\"kcal\" + 0.000*\"cham_soc\" + 0.000*\"skincare\" + 0.000*\"thiet_ke\" + 0.000*\"van_đong\"\n",
      "INFO : topic #44 (0.010): 0.603*\"ung_dung\" + 0.071*\"boi_canh\" + 0.032*\"muot\" + 0.032*\"game\" + 0.032*\"phan_tan\" + 0.027*\"đong_ho\" + 0.025*\"xe_đap\" + 0.022*\"developer\" + 0.011*\"nodejs\" + 0.000*\"android\"\n",
      "INFO : topic #23 (0.010): 0.000*\"da\" + 0.000*\"khoi_nghiep\" + 0.000*\"kinh_doanh\" + 0.000*\"san_pham\" + 0.000*\"huong\" + 0.000*\"lan\" + 0.000*\"cong_ty\" + 0.000*\"mao_hiem\" + 0.000*\"he\" + 0.000*\"cham_soc\"\n",
      "INFO : topic #39 (0.010): 0.192*\"ly_tuong\" + 0.191*\"phat_huy\" + 0.127*\"nhay_cam\" + 0.096*\"truc_giac\" + 0.085*\"kien_nhan\" + 0.059*\"chuyen_gia\" + 0.048*\"tri_oc\" + 0.035*\"li_do\" + 0.024*\"gat_hai\" + 0.013*\"yen_tam\"\n",
      "INFO : topic #29 (0.010): 0.000*\"kinh_doanh\" + 0.000*\"khoi_nghiep\" + 0.000*\"calo\" + 0.000*\"da\" + 0.000*\"can\" + 0.000*\"mua\" + 0.000*\"lam_viec\" + 0.000*\"thong_minh\" + 0.000*\"von\" + 0.000*\"san_pham\"\n",
      "INFO : topic #32 (0.010): 0.286*\"đap_ung\" + 0.170*\"trang_web\" + 0.128*\"khuon_kho\" + 0.088*\"frontend\" + 0.054*\"lop_hoc\" + 0.033*\"nghien\" + 0.014*\"hinh_thanh\" + 0.000*\"css\" + 0.000*\"html\" + 0.000*\"web\"\n",
      "INFO : topic #20 (0.010): 0.000*\"calo\" + 0.000*\"can\" + 0.000*\"co_the\" + 0.000*\"thuc_pham\" + 0.000*\"tieu_thu\" + 0.000*\"uong\" + 0.000*\"van_đong\" + 0.000*\"protein\" + 0.000*\"nang_luong\" + 0.000*\"nap\"\n",
      "INFO : topic #26 (0.010): 0.000*\"design\" + 0.000*\"thiet_ke\" + 0.000*\"kinh_doanh\" + 0.000*\"google\" + 0.000*\"cung_cap\" + 0.000*\"web\" + 0.000*\"khoi_nghiep\" + 0.000*\"framework\" + 0.000*\"bao_gom\" + 0.000*\"css\"\n",
      "INFO : topic #5 (0.010): 0.090*\"calo\" + 0.054*\"can\" + 0.034*\"co_the\" + 0.029*\"thuc_pham\" + 0.023*\"no\" + 0.021*\"nang_luong\" + 0.018*\"chat_beo\" + 0.017*\"nap\" + 0.016*\"đot\" + 0.016*\"protein\"\n",
      "INFO : topic #6 (0.010): 0.107*\"sach\" + 0.096*\"tieng\" + 0.085*\"đoc\" + 0.036*\"hoc\" + 0.029*\"ky_nang\" + 0.018*\"sinh_vien\" + 0.015*\"giao_tiep\" + 0.014*\"kien_thuc\" + 0.013*\"loi_ich\" + 0.013*\"khoi_nghiep\"\n",
      "INFO : topic #38 (0.010): 0.152*\"ngon_ngu\" + 0.080*\"lap_trinh\" + 0.071*\"ung_dung\" + 0.046*\"pho_bien\" + 0.037*\"google\" + 0.037*\"hoc\" + 0.028*\"chuong_trinh\" + 0.023*\"java\" + 0.022*\"đoi_thu\" + 0.021*\"phan_mem\"\n",
      "INFO : topic #35 (0.010): 0.285*\"đao_tao\" + 0.208*\"may\" + 0.124*\"hien\" + 0.105*\"tien_loi\" + 0.065*\"mo_hinh\" + 0.037*\"co_ban\" + 0.034*\"phan_chia\" + 0.028*\"bai_toan\" + 0.021*\"đon_gian\" + 0.018*\"đau_vao\"\n",
      "INFO : topic #25 (0.010): 0.000*\"du_lich\" + 0.000*\"khoi_nghiep\" + 0.000*\"kinh_doanh\" + 0.000*\"chuyen\" + 0.000*\"mua\" + 0.000*\"huong\" + 0.000*\"san_pham\" + 0.000*\"bien\" + 0.000*\"mo_rong\" + 0.000*\"xe\"\n",
      "INFO : topic #37 (0.010): 0.000*\"khoi_nghiep\" + 0.000*\"da\" + 0.000*\"kinh_doanh\" + 0.000*\"ngon_ngu\" + 0.000*\"lap_trinh\" + 0.000*\"tien\" + 0.000*\"y_tuong\" + 0.000*\"mua\" + 0.000*\"đung\" + 0.000*\"hoc\"\n",
      "INFO : topic #1 (0.010): 0.129*\"marketing\" + 0.070*\"giao_dich\" + 0.069*\"sprint\" + 0.068*\"user\" + 0.045*\"camera\" + 0.041*\"du_an\" + 0.040*\"mua\" + 0.032*\"meeting\" + 0.031*\"team\" + 0.025*\"scrum\"\n",
      "INFO : topic #12 (0.010): 0.564*\"trai_đat\" + 0.132*\"thuy_đien\" + 0.000*\"y_thuc\" + 0.000*\"con_nguoi\" + 0.000*\"thong_minh\" + 0.000*\"vo_tinh\" + 0.000*\"tro_nen\" + 0.000*\"he_thong\" + 0.000*\"xay\" + 0.000*\"muc_tieu\"\n",
      "INFO : topic #43 (0.010): 0.000*\"da\" + 0.000*\"ve\" + 0.000*\"du_lich\" + 0.000*\"thong_minh\" + 0.000*\"marketing\" + 0.000*\"duong\" + 0.000*\"cham_soc\" + 0.000*\"san_pham\" + 0.000*\"skincare\" + 0.000*\"lan\"\n"
     ]
    },
    {
     "data": {
      "text/plain": [
       "[(18,\n",
       "  '0.047*\"con_nguoi\" + 0.047*\"nhan_tao\" + 0.044*\"cong_nghe\" + 0.035*\"tri_tue\" + 0.019*\"thong_minh\" + 0.017*\"linh_vuc\" + 0.013*\"han_che\" + 0.013*\"may\" + 0.012*\"nghien_cuu\" + 0.011*\"khoa_hoc\"'),\n",
       " (33,\n",
       "  '0.121*\"sach\" + 0.111*\"san_pham\" + 0.092*\"mui\" + 0.054*\"ban\" + 0.053*\"min\" + 0.044*\"lop\" + 0.038*\"am\" + 0.037*\"che_đo\" + 0.033*\"so_huu\" + 0.033*\"loai_bo\"'),\n",
       " (11,\n",
       "  '0.037*\"thoi_quen\" + 0.034*\"suc_khoe\" + 0.033*\"mon\" + 0.028*\"an_uong\" + 0.027*\"co_the\" + 0.023*\"rau\" + 0.021*\"can_thiet\" + 0.020*\"tap_the_duc\" + 0.017*\"can_bang\" + 0.017*\"thay_vi\"'),\n",
       " (3,\n",
       "  '0.000*\"calo\" + 0.000*\"can\" + 0.000*\"da\" + 0.000*\"co_the\" + 0.000*\"thuc_pham\" + 0.000*\"kcal\" + 0.000*\"cham_soc\" + 0.000*\"skincare\" + 0.000*\"thiet_ke\" + 0.000*\"van_đong\"'),\n",
       " (44,\n",
       "  '0.603*\"ung_dung\" + 0.071*\"boi_canh\" + 0.032*\"muot\" + 0.032*\"game\" + 0.032*\"phan_tan\" + 0.027*\"đong_ho\" + 0.025*\"xe_đap\" + 0.022*\"developer\" + 0.011*\"nodejs\" + 0.000*\"android\"'),\n",
       " (23,\n",
       "  '0.000*\"da\" + 0.000*\"khoi_nghiep\" + 0.000*\"kinh_doanh\" + 0.000*\"san_pham\" + 0.000*\"huong\" + 0.000*\"lan\" + 0.000*\"cong_ty\" + 0.000*\"mao_hiem\" + 0.000*\"he\" + 0.000*\"cham_soc\"'),\n",
       " (39,\n",
       "  '0.192*\"ly_tuong\" + 0.191*\"phat_huy\" + 0.127*\"nhay_cam\" + 0.096*\"truc_giac\" + 0.085*\"kien_nhan\" + 0.059*\"chuyen_gia\" + 0.048*\"tri_oc\" + 0.035*\"li_do\" + 0.024*\"gat_hai\" + 0.013*\"yen_tam\"'),\n",
       " (29,\n",
       "  '0.000*\"kinh_doanh\" + 0.000*\"khoi_nghiep\" + 0.000*\"calo\" + 0.000*\"da\" + 0.000*\"can\" + 0.000*\"mua\" + 0.000*\"lam_viec\" + 0.000*\"thong_minh\" + 0.000*\"von\" + 0.000*\"san_pham\"'),\n",
       " (32,\n",
       "  '0.286*\"đap_ung\" + 0.170*\"trang_web\" + 0.128*\"khuon_kho\" + 0.088*\"frontend\" + 0.054*\"lop_hoc\" + 0.033*\"nghien\" + 0.014*\"hinh_thanh\" + 0.000*\"css\" + 0.000*\"html\" + 0.000*\"web\"'),\n",
       " (20,\n",
       "  '0.000*\"calo\" + 0.000*\"can\" + 0.000*\"co_the\" + 0.000*\"thuc_pham\" + 0.000*\"tieu_thu\" + 0.000*\"uong\" + 0.000*\"van_đong\" + 0.000*\"protein\" + 0.000*\"nang_luong\" + 0.000*\"nap\"'),\n",
       " (26,\n",
       "  '0.000*\"design\" + 0.000*\"thiet_ke\" + 0.000*\"kinh_doanh\" + 0.000*\"google\" + 0.000*\"cung_cap\" + 0.000*\"web\" + 0.000*\"khoi_nghiep\" + 0.000*\"framework\" + 0.000*\"bao_gom\" + 0.000*\"css\"'),\n",
       " (5,\n",
       "  '0.090*\"calo\" + 0.054*\"can\" + 0.034*\"co_the\" + 0.029*\"thuc_pham\" + 0.023*\"no\" + 0.021*\"nang_luong\" + 0.018*\"chat_beo\" + 0.017*\"nap\" + 0.016*\"đot\" + 0.016*\"protein\"'),\n",
       " (6,\n",
       "  '0.107*\"sach\" + 0.096*\"tieng\" + 0.085*\"đoc\" + 0.036*\"hoc\" + 0.029*\"ky_nang\" + 0.018*\"sinh_vien\" + 0.015*\"giao_tiep\" + 0.014*\"kien_thuc\" + 0.013*\"loi_ich\" + 0.013*\"khoi_nghiep\"'),\n",
       " (38,\n",
       "  '0.152*\"ngon_ngu\" + 0.080*\"lap_trinh\" + 0.071*\"ung_dung\" + 0.046*\"pho_bien\" + 0.037*\"google\" + 0.037*\"hoc\" + 0.028*\"chuong_trinh\" + 0.023*\"java\" + 0.022*\"đoi_thu\" + 0.021*\"phan_mem\"'),\n",
       " (35,\n",
       "  '0.285*\"đao_tao\" + 0.208*\"may\" + 0.124*\"hien\" + 0.105*\"tien_loi\" + 0.065*\"mo_hinh\" + 0.037*\"co_ban\" + 0.034*\"phan_chia\" + 0.028*\"bai_toan\" + 0.021*\"đon_gian\" + 0.018*\"đau_vao\"'),\n",
       " (25,\n",
       "  '0.000*\"du_lich\" + 0.000*\"khoi_nghiep\" + 0.000*\"kinh_doanh\" + 0.000*\"chuyen\" + 0.000*\"mua\" + 0.000*\"huong\" + 0.000*\"san_pham\" + 0.000*\"bien\" + 0.000*\"mo_rong\" + 0.000*\"xe\"'),\n",
       " (37,\n",
       "  '0.000*\"khoi_nghiep\" + 0.000*\"da\" + 0.000*\"kinh_doanh\" + 0.000*\"ngon_ngu\" + 0.000*\"lap_trinh\" + 0.000*\"tien\" + 0.000*\"y_tuong\" + 0.000*\"mua\" + 0.000*\"đung\" + 0.000*\"hoc\"'),\n",
       " (1,\n",
       "  '0.129*\"marketing\" + 0.070*\"giao_dich\" + 0.069*\"sprint\" + 0.068*\"user\" + 0.045*\"camera\" + 0.041*\"du_an\" + 0.040*\"mua\" + 0.032*\"meeting\" + 0.031*\"team\" + 0.025*\"scrum\"'),\n",
       " (12,\n",
       "  '0.564*\"trai_đat\" + 0.132*\"thuy_đien\" + 0.000*\"y_thuc\" + 0.000*\"con_nguoi\" + 0.000*\"thong_minh\" + 0.000*\"vo_tinh\" + 0.000*\"tro_nen\" + 0.000*\"he_thong\" + 0.000*\"xay\" + 0.000*\"muc_tieu\"'),\n",
       " (43,\n",
       "  '0.000*\"da\" + 0.000*\"ve\" + 0.000*\"du_lich\" + 0.000*\"thong_minh\" + 0.000*\"marketing\" + 0.000*\"duong\" + 0.000*\"cham_soc\" + 0.000*\"san_pham\" + 0.000*\"skincare\" + 0.000*\"lan\"')]"
      ]
     },
     "execution_count": 55,
     "metadata": {},
     "output_type": "execute_result"
    }
   ],
   "source": [
    "lda_model.print_topics()"
   ]
  },
  {
   "cell_type": "code",
   "execution_count": 57,
   "id": "a34211ee",
   "metadata": {},
   "outputs": [],
   "source": [
    "import joblib\n",
    "doc_topic_dist = joblib.load(\n",
    "       '../models/doc_topic_dist.dat'\n",
    "    )"
   ]
  },
  {
   "cell_type": "code",
   "execution_count": 61,
   "id": "adcc17dc",
   "metadata": {},
   "outputs": [
    {
     "ename": "TypeError",
     "evalue": "cannot convert dictionary update sequence element #0 to a sequence",
     "output_type": "error",
     "traceback": [
      "\u001b[1;31m---------------------------------------------------------------------------\u001b[0m",
      "\u001b[1;31mTypeError\u001b[0m                                 Traceback (most recent call last)",
      "Cell \u001b[1;32mIn[61], line 1\u001b[0m\n\u001b[1;32m----> 1\u001b[0m similarity \u001b[38;5;241m=\u001b[39m \u001b[43mgensim\u001b[49m\u001b[38;5;241;43m.\u001b[39;49m\u001b[43mmatutils\u001b[49m\u001b[38;5;241;43m.\u001b[39;49m\u001b[43mcossim\u001b[49m\u001b[43m(\u001b[49m\u001b[43mdoc_topic_dist\u001b[49m\u001b[43m[\u001b[49m\u001b[38;5;241;43m1\u001b[39;49m\u001b[43m]\u001b[49m\u001b[43m,\u001b[49m\u001b[43m \u001b[49m\u001b[43mdoc_topic_dist\u001b[49m\u001b[43m[\u001b[49m\u001b[38;5;241;43m2\u001b[39;49m\u001b[43m]\u001b[49m\u001b[43m)\u001b[49m\n",
      "File \u001b[1;32mc:\\users\\anony\\appdata\\local\\programs\\python\\python39\\lib\\site-packages\\gensim\\matutils.py:811\u001b[0m, in \u001b[0;36mcossim\u001b[1;34m(vec1, vec2)\u001b[0m\n\u001b[0;32m    793\u001b[0m \u001b[38;5;28;01mdef\u001b[39;00m \u001b[38;5;21mcossim\u001b[39m(vec1, vec2):\n\u001b[0;32m    794\u001b[0m     \u001b[38;5;124;03m\"\"\"Get cosine similarity between two sparse vectors.\u001b[39;00m\n\u001b[0;32m    795\u001b[0m \n\u001b[0;32m    796\u001b[0m \u001b[38;5;124;03m    Cosine similarity is a number between `<-1.0, 1.0>`, higher means more similar.\u001b[39;00m\n\u001b[1;32m   (...)\u001b[0m\n\u001b[0;32m    809\u001b[0m \n\u001b[0;32m    810\u001b[0m \u001b[38;5;124;03m    \"\"\"\u001b[39;00m\n\u001b[1;32m--> 811\u001b[0m     vec1, vec2 \u001b[38;5;241m=\u001b[39m \u001b[38;5;28;43mdict\u001b[39;49m\u001b[43m(\u001b[49m\u001b[43mvec1\u001b[49m\u001b[43m)\u001b[49m, \u001b[38;5;28mdict\u001b[39m(vec2)\n\u001b[0;32m    812\u001b[0m     \u001b[38;5;28;01mif\u001b[39;00m \u001b[38;5;129;01mnot\u001b[39;00m vec1 \u001b[38;5;129;01mor\u001b[39;00m \u001b[38;5;129;01mnot\u001b[39;00m vec2:\n\u001b[0;32m    813\u001b[0m         \u001b[38;5;28;01mreturn\u001b[39;00m \u001b[38;5;241m0.0\u001b[39m\n",
      "\u001b[1;31mTypeError\u001b[0m: cannot convert dictionary update sequence element #0 to a sequence"
     ]
    }
   ],
   "source": [
    "similarity = gensim.matutils.cossim(doc_topic_dist[1], doc_topic_dist[2])"
   ]
  }
 ],
 "metadata": {
  "kernelspec": {
   "display_name": "Python 3 (ipykernel)",
   "language": "python",
   "name": "python3"
  },
  "language_info": {
   "codemirror_mode": {
    "name": "ipython",
    "version": 3
   },
   "file_extension": ".py",
   "mimetype": "text/x-python",
   "name": "python",
   "nbconvert_exporter": "python",
   "pygments_lexer": "ipython3",
   "version": "3.9.6"
  }
 },
 "nbformat": 4,
 "nbformat_minor": 5
}
