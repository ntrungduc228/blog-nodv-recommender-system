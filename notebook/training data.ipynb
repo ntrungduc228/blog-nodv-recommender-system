{
 "cells": [
  {
   "cell_type": "code",
   "execution_count": 1,
   "id": "dd593c97",
   "metadata": {},
   "outputs": [],
   "source": [
    "import gensim"
   ]
  },
  {
   "cell_type": "code",
   "execution_count": 4,
   "id": "96c5155d",
   "metadata": {},
   "outputs": [],
   "source": [
    "lda_model = gensim.models.ldamodel.LdaModel.load('../models/LDA.model')"
   ]
  },
  {
   "cell_type": "code",
   "execution_count": 5,
   "id": "6895df1d",
   "metadata": {},
   "outputs": [
    {
     "data": {
      "text/plain": [
       "<gensim.models.ldamodel.LdaModel at 0x16d4f5d74c0>"
      ]
     },
     "execution_count": 5,
     "metadata": {},
     "output_type": "execute_result"
    }
   ],
   "source": [
    "lda_model"
   ]
  },
  {
   "cell_type": "code",
   "execution_count": 12,
   "id": "29cb98a6",
   "metadata": {},
   "outputs": [],
   "source": [
    "id2word = gensim.corpora.Dictionary.load(\n",
    "       '../models/id2word.dictionary'\n",
    "    )"
   ]
  },
  {
   "cell_type": "code",
   "execution_count": 19,
   "id": "88b03533",
   "metadata": {},
   "outputs": [],
   "source": [
    "text = \"chú_ý xây_dựng restful api đăng cập_nhật chả xa_lạ ghi restful api newbie tiếp_cận học viết api thuận_tiện câu xây_dựng api mini app giai_đoạn đầu viết chuẩn tiện đơn_giản load tất record method code xong wtf kia toàn_bộ thuộc_tính record ngớ_ngẩn thừa dữ_liệu nặng_nề server gửi data viết đề_cập chú_ý thiết_kế restful api danh động đơn_giản vạn route request route chuẩn restful xây_dựng route động nè chuẩn thiết_kế api ngon đơn_giản getpostputdeleteuserstrả dùngtạo dùngcập nhật hàng loạtxóa dùnguserstrả cụ thểphương thức phép cập_nhật thông tinngười cụ thểxóa danh tương_tự route chuẩn restful ngon custom danh chuẩn ví_dụ quan_hệ resource gọi resource parent resource route đơn hàng sản_phẩm sản_phẩm đơn hàng đơn_giản paramsorderid danh_sách params httpheader chuẩn_hóa định_dạng request reponse server client quy_định rõ_ràng định_dạng gửi nhận_định_dạng gắn kèm httpheader contenttype xác_định định_dạng dữ_liệu gửi đi request accept danh_sách định_dạng chấp_nhận dữ_liệu respone version api api version xác_định đừng số_nguyên dạng định_dạng kiểu lỗi http status code đừng lỗi dạng http status code phân trang load ghi phân trang tiện api thử_hỏi frontend phân trang page user app k users chả nhẽ k users mảng dư giả phân trang request limit offset gắn liên_kết next page previous page giới_hạn field thiết_kế api trường_hợp load sản_phẩm đơn hàng thuộc_tính cần_thiết creator createdat field thừa dữ_liệu rối docs api câu trường_hợp xài field thiết_yếu\""
   ]
  },
  {
   "cell_type": "code",
   "execution_count": 21,
   "id": "b530a2af",
   "metadata": {},
   "outputs": [],
   "source": [
    "import gensim\n",
    "from gensim.utils import simple_preprocess"
   ]
  },
  {
   "cell_type": "code",
   "execution_count": 23,
   "id": "57c6b55d",
   "metadata": {},
   "outputs": [],
   "source": [
    "split_text = simple_preprocess(text, deacc=True)"
   ]
  },
  {
   "cell_type": "code",
   "execution_count": 25,
   "id": "515b9452",
   "metadata": {},
   "outputs": [
    {
     "data": {
      "text/plain": [
       "['chu_y',\n",
       " 'xay_dung',\n",
       " 'restful',\n",
       " 'api',\n",
       " 'đang',\n",
       " 'cap_nhat',\n",
       " 'cha',\n",
       " 'xa_la',\n",
       " 'ghi',\n",
       " 'restful',\n",
       " 'api',\n",
       " 'newbie',\n",
       " 'tiep_can',\n",
       " 'hoc',\n",
       " 'viet',\n",
       " 'api',\n",
       " 'thuan_tien',\n",
       " 'cau',\n",
       " 'xay_dung',\n",
       " 'api',\n",
       " 'mini',\n",
       " 'app',\n",
       " 'giai_đoan',\n",
       " 'đau',\n",
       " 'viet',\n",
       " 'chuan',\n",
       " 'tien',\n",
       " 'đon_gian',\n",
       " 'load',\n",
       " 'tat',\n",
       " 'record',\n",
       " 'method',\n",
       " 'code',\n",
       " 'xong',\n",
       " 'wtf',\n",
       " 'kia',\n",
       " 'toan_bo',\n",
       " 'thuoc_tinh',\n",
       " 'record',\n",
       " 'ngo_ngan',\n",
       " 'thua',\n",
       " 'du_lieu',\n",
       " 'nang_ne',\n",
       " 'server',\n",
       " 'gui',\n",
       " 'data',\n",
       " 'viet',\n",
       " 'đe_cap',\n",
       " 'chu_y',\n",
       " 'thiet_ke',\n",
       " 'restful',\n",
       " 'api',\n",
       " 'danh',\n",
       " 'đong',\n",
       " 'đon_gian',\n",
       " 'van',\n",
       " 'route',\n",
       " 'request',\n",
       " 'route',\n",
       " 'chuan',\n",
       " 'restful',\n",
       " 'xay_dung',\n",
       " 'route',\n",
       " 'đong',\n",
       " 'ne',\n",
       " 'chuan',\n",
       " 'thiet_ke',\n",
       " 'api',\n",
       " 'ngon',\n",
       " 'đon_gian',\n",
       " 'dungtao',\n",
       " 'dungcap',\n",
       " 'nhat',\n",
       " 'hang',\n",
       " 'loatxoa',\n",
       " 'dunguserstra',\n",
       " 'cu',\n",
       " 'thephuong',\n",
       " 'thuc',\n",
       " 'phep',\n",
       " 'cap_nhat',\n",
       " 'thong',\n",
       " 'tinnguoi',\n",
       " 'cu',\n",
       " 'thexoa',\n",
       " 'danh',\n",
       " 'tuong_tu',\n",
       " 'route',\n",
       " 'chuan',\n",
       " 'restful',\n",
       " 'ngon',\n",
       " 'custom',\n",
       " 'danh',\n",
       " 'chuan',\n",
       " 'vi_du',\n",
       " 'quan_he',\n",
       " 'resource',\n",
       " 'goi',\n",
       " 'resource',\n",
       " 'parent',\n",
       " 'resource',\n",
       " 'route',\n",
       " 'đon',\n",
       " 'hang',\n",
       " 'san_pham',\n",
       " 'san_pham',\n",
       " 'đon',\n",
       " 'hang',\n",
       " 'đon_gian',\n",
       " 'paramsorderid',\n",
       " 'danh_sach',\n",
       " 'params',\n",
       " 'httpheader',\n",
       " 'chuan_hoa',\n",
       " 'đinh_dang',\n",
       " 'request',\n",
       " 'reponse',\n",
       " 'server',\n",
       " 'client',\n",
       " 'quy_đinh',\n",
       " 'ro_rang',\n",
       " 'đinh_dang',\n",
       " 'gui',\n",
       " 'nhan_đinh_dang',\n",
       " 'gan',\n",
       " 'kem',\n",
       " 'httpheader',\n",
       " 'contenttype',\n",
       " 'xac_đinh',\n",
       " 'đinh_dang',\n",
       " 'du_lieu',\n",
       " 'gui',\n",
       " 'đi',\n",
       " 'request',\n",
       " 'accept',\n",
       " 'danh_sach',\n",
       " 'đinh_dang',\n",
       " 'chap_nhan',\n",
       " 'du_lieu',\n",
       " 'respone',\n",
       " 'version',\n",
       " 'api',\n",
       " 'api',\n",
       " 'version',\n",
       " 'xac_đinh',\n",
       " 'đung',\n",
       " 'so_nguyen',\n",
       " 'dang',\n",
       " 'đinh_dang',\n",
       " 'kieu',\n",
       " 'loi',\n",
       " 'http',\n",
       " 'status',\n",
       " 'code',\n",
       " 'đung',\n",
       " 'loi',\n",
       " 'dang',\n",
       " 'http',\n",
       " 'status',\n",
       " 'code',\n",
       " 'phan',\n",
       " 'trang',\n",
       " 'load',\n",
       " 'ghi',\n",
       " 'phan',\n",
       " 'trang',\n",
       " 'tien',\n",
       " 'api',\n",
       " 'thu_hoi',\n",
       " 'frontend',\n",
       " 'phan',\n",
       " 'trang',\n",
       " 'page',\n",
       " 'user',\n",
       " 'app',\n",
       " 'users',\n",
       " 'cha',\n",
       " 'nhe',\n",
       " 'users',\n",
       " 'mang',\n",
       " 'du',\n",
       " 'gia',\n",
       " 'phan',\n",
       " 'trang',\n",
       " 'request',\n",
       " 'limit',\n",
       " 'offset',\n",
       " 'gan',\n",
       " 'lien_ket',\n",
       " 'next',\n",
       " 'page',\n",
       " 'previous',\n",
       " 'page',\n",
       " 'gioi_han',\n",
       " 'field',\n",
       " 'thiet_ke',\n",
       " 'api',\n",
       " 'truong_hop',\n",
       " 'load',\n",
       " 'san_pham',\n",
       " 'đon',\n",
       " 'hang',\n",
       " 'thuoc_tinh',\n",
       " 'can_thiet',\n",
       " 'creator',\n",
       " 'createdat',\n",
       " 'field',\n",
       " 'thua',\n",
       " 'du_lieu',\n",
       " 'roi',\n",
       " 'docs',\n",
       " 'api',\n",
       " 'cau',\n",
       " 'truong_hop',\n",
       " 'xai',\n",
       " 'field',\n",
       " 'thiet_yeu']"
      ]
     },
     "execution_count": 25,
     "metadata": {},
     "output_type": "execute_result"
    }
   ],
   "source": [
    "split_text"
   ]
  },
  {
   "cell_type": "code",
   "execution_count": 28,
   "id": "ee32a9f4",
   "metadata": {},
   "outputs": [],
   "source": [
    "doc_vector = lda_model.id2word.doc2bow(split_text)"
   ]
  },
  {
   "cell_type": "code",
   "execution_count": 31,
   "id": "aa2aad21",
   "metadata": {},
   "outputs": [
    {
     "data": {
      "text/plain": [
       "[(1, 11),\n",
       " (14, 1),\n",
       " (17, 2),\n",
       " (31, 1),\n",
       " (35, 3),\n",
       " (46, 2),\n",
       " (47, 2),\n",
       " (48, 1),\n",
       " (57, 1),\n",
       " (65, 3),\n",
       " (67, 4),\n",
       " (83, 1),\n",
       " (92, 1),\n",
       " (115, 2),\n",
       " (124, 1),\n",
       " (168, 1),\n",
       " (173, 4),\n",
       " (179, 3),\n",
       " (182, 2),\n",
       " (194, 1),\n",
       " (205, 3),\n",
       " (212, 2),\n",
       " (213, 1),\n",
       " (214, 1),\n",
       " (217, 1),\n",
       " (223, 1),\n",
       " (228, 4),\n",
       " (249, 1),\n",
       " (250, 2),\n",
       " (251, 1),\n",
       " (253, 3),\n",
       " (259, 2),\n",
       " (260, 3),\n",
       " (270, 1),\n",
       " (274, 1),\n",
       " (276, 1),\n",
       " (278, 5),\n",
       " (284, 2),\n",
       " (306, 1),\n",
       " (310, 1),\n",
       " (319, 2),\n",
       " (322, 2),\n",
       " (331, 2),\n",
       " (334, 2),\n",
       " (351, 2),\n",
       " (354, 1),\n",
       " (357, 1),\n",
       " (363, 2),\n",
       " (365, 1),\n",
       " (369, 1),\n",
       " (370, 1),\n",
       " (371, 1),\n",
       " (382, 1),\n",
       " (387, 1),\n",
       " (398, 2),\n",
       " (399, 5),\n",
       " (400, 2)]"
      ]
     },
     "execution_count": 31,
     "metadata": {},
     "output_type": "execute_result"
    }
   ],
   "source": [
    "doc_vector"
   ]
  },
  {
   "cell_type": "code",
   "execution_count": 32,
   "id": "604c5b16",
   "metadata": {},
   "outputs": [],
   "source": [
    "# Lấy các nhóm mà bài viết thuộc về\n",
    "topics = lda_model.get_document_topics(doc_vector)"
   ]
  },
  {
   "cell_type": "code",
   "execution_count": 34,
   "id": "360db4f6",
   "metadata": {},
   "outputs": [],
   "source": [
    "corpus = gensim.corpora.MmCorpus('../models/corpus.mm')"
   ]
  },
  {
   "cell_type": "code",
   "execution_count": 37,
   "id": "2c83c49b",
   "metadata": {},
   "outputs": [],
   "source": [
    "from gensim import similarities\n",
    "index = similarities.MatrixSimilarity(lda_model[corpus])"
   ]
  },
  {
   "cell_type": "code",
   "execution_count": 38,
   "id": "eb6a138d",
   "metadata": {},
   "outputs": [
    {
     "ename": "IndexError",
     "evalue": "index 65 is out of bounds for axis 0 with size 64",
     "output_type": "error",
     "traceback": [
      "\u001b[1;31m---------------------------------------------------------------------------\u001b[0m",
      "\u001b[1;31mIndexError\u001b[0m                                Traceback (most recent call last)",
      "Cell \u001b[1;32mIn[38], line 1\u001b[0m\n\u001b[1;32m----> 1\u001b[0m sims \u001b[38;5;241m=\u001b[39m \u001b[43mindex\u001b[49m\u001b[43m[\u001b[49m\u001b[43mdoc_vector\u001b[49m\u001b[43m]\u001b[49m\n",
      "File \u001b[1;32mc:\\users\\anony\\appdata\\local\\programs\\python\\python39\\lib\\site-packages\\gensim\\interfaces.py:337\u001b[0m, in \u001b[0;36mSimilarityABC.__getitem__\u001b[1;34m(self, query)\u001b[0m\n\u001b[0;32m    335\u001b[0m         \u001b[38;5;28;01melse\u001b[39;00m:\n\u001b[0;32m    336\u001b[0m             query \u001b[38;5;241m=\u001b[39m matutils\u001b[38;5;241m.\u001b[39munitvec(query)\n\u001b[1;32m--> 337\u001b[0m result \u001b[38;5;241m=\u001b[39m \u001b[38;5;28;43mself\u001b[39;49m\u001b[38;5;241;43m.\u001b[39;49m\u001b[43mget_similarities\u001b[49m\u001b[43m(\u001b[49m\u001b[43mquery\u001b[49m\u001b[43m)\u001b[49m\n\u001b[0;32m    339\u001b[0m \u001b[38;5;28;01mif\u001b[39;00m \u001b[38;5;28mself\u001b[39m\u001b[38;5;241m.\u001b[39mnum_best \u001b[38;5;129;01mis\u001b[39;00m \u001b[38;5;28;01mNone\u001b[39;00m:\n\u001b[0;32m    340\u001b[0m     \u001b[38;5;28;01mreturn\u001b[39;00m result\n",
      "File \u001b[1;32mc:\\users\\anony\\appdata\\local\\programs\\python\\python39\\lib\\site-packages\\gensim\\similarities\\docsim.py:870\u001b[0m, in \u001b[0;36mMatrixSimilarity.get_similarities\u001b[1;34m(self, query)\u001b[0m\n\u001b[0;32m    867\u001b[0m         \u001b[38;5;28;01mpass\u001b[39;00m\n\u001b[0;32m    868\u001b[0m     \u001b[38;5;28;01melse\u001b[39;00m:\n\u001b[0;32m    869\u001b[0m         \u001b[38;5;66;03m# default case: query is a single vector in sparse gensim format\u001b[39;00m\n\u001b[1;32m--> 870\u001b[0m         query \u001b[38;5;241m=\u001b[39m \u001b[43mmatutils\u001b[49m\u001b[38;5;241;43m.\u001b[39;49m\u001b[43msparse2full\u001b[49m\u001b[43m(\u001b[49m\u001b[43mquery\u001b[49m\u001b[43m,\u001b[49m\u001b[43m \u001b[49m\u001b[38;5;28;43mself\u001b[39;49m\u001b[38;5;241;43m.\u001b[39;49m\u001b[43mnum_features\u001b[49m\u001b[43m)\u001b[49m\n\u001b[0;32m    871\u001b[0m     query \u001b[38;5;241m=\u001b[39m numpy\u001b[38;5;241m.\u001b[39masarray(query, dtype\u001b[38;5;241m=\u001b[39m\u001b[38;5;28mself\u001b[39m\u001b[38;5;241m.\u001b[39mindex\u001b[38;5;241m.\u001b[39mdtype)\n\u001b[0;32m    873\u001b[0m \u001b[38;5;66;03m# do a little transposition dance to stop numpy from making a copy of\u001b[39;00m\n\u001b[0;32m    874\u001b[0m \u001b[38;5;66;03m# self.index internally in numpy.dot (very slow).\u001b[39;00m\n",
      "File \u001b[1;32mc:\\users\\anony\\appdata\\local\\programs\\python\\python39\\lib\\site-packages\\gensim\\matutils.py:398\u001b[0m, in \u001b[0;36msparse2full\u001b[1;34m(doc, length)\u001b[0m\n\u001b[0;32m    396\u001b[0m doc \u001b[38;5;241m=\u001b[39m \u001b[38;5;28mdict\u001b[39m(doc)\n\u001b[0;32m    397\u001b[0m \u001b[38;5;66;03m# overwrite some of the zeroes with explicit values\u001b[39;00m\n\u001b[1;32m--> 398\u001b[0m \u001b[43mresult\u001b[49m\u001b[43m[\u001b[49m\u001b[38;5;28;43mlist\u001b[39;49m\u001b[43m(\u001b[49m\u001b[43mdoc\u001b[49m\u001b[43m)\u001b[49m\u001b[43m]\u001b[49m \u001b[38;5;241m=\u001b[39m \u001b[38;5;28mlist\u001b[39m(doc\u001b[38;5;241m.\u001b[39mvalues())\n\u001b[0;32m    399\u001b[0m \u001b[38;5;28;01mreturn\u001b[39;00m result\n",
      "\u001b[1;31mIndexError\u001b[0m: index 65 is out of bounds for axis 0 with size 64"
     ]
    }
   ],
   "source": [
    "sims = index[doc_vector]"
   ]
  },
  {
   "cell_type": "code",
   "execution_count": null,
   "id": "c4fb30a9",
   "metadata": {},
   "outputs": [],
   "source": []
  }
 ],
 "metadata": {
  "kernelspec": {
   "display_name": "Python 3 (ipykernel)",
   "language": "python",
   "name": "python3"
  },
  "language_info": {
   "codemirror_mode": {
    "name": "ipython",
    "version": 3
   },
   "file_extension": ".py",
   "mimetype": "text/x-python",
   "name": "python",
   "nbconvert_exporter": "python",
   "pygments_lexer": "ipython3",
   "version": "3.9.6"
  }
 },
 "nbformat": 4,
 "nbformat_minor": 5
}
